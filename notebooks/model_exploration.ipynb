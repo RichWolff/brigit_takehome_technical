{
 "cells": [
  {
   "cell_type": "code",
   "execution_count": 1,
   "metadata": {},
   "outputs": [
    {
     "data": {
      "text/html": [
       "<style>.container { width:80% !important; }</style>"
      ],
      "text/plain": [
       "<IPython.core.display.HTML object>"
      ]
     },
     "metadata": {},
     "output_type": "display_data"
    }
   ],
   "source": [
    "import pandas as pd\n",
    "import numpy as np\n",
    "import matplotlib.pyplot as plt\n",
    "import seaborn as sns\n",
    "import os, sys\n",
    "import time\n",
    "%matplotlib inline\n",
    "\n",
    "from sklearn.pipeline import Pipeline\n",
    "from sklearn.preprocessing import StandardScaler\n",
    "from sklearn.linear_model import LogisticRegression\n",
    "from sklearn.ensemble import RandomForestClassifier\n",
    "from sklearn.svm import SVC\n",
    "from sklearn.model_selection import train_test_split, GridSearchCV\n",
    "from sklearn.metrics import confusion_matrix,classification_report\n",
    "from sklearn.feature_selection import RFE\n",
    "\n",
    "from imblearn.over_sampling import SMOTE\n",
    "\n",
    "\n",
    "## Increase size of jupyter notebook\n",
    "from IPython.core.display import display, HTML\n",
    "display(HTML(\"<style>.container { width:80% !important; }</style>\"));"
   ]
  },
  {
   "cell_type": "code",
   "execution_count": 2,
   "metadata": {},
   "outputs": [],
   "source": [
    "# Get directories\n",
    "notebooks_dir = os.path.abspath(os.path.dirname('__file__'))\n",
    "base_dir = os.path.dirname(os.path.join(notebooks_dir))\n",
    "data_dir = os.path.join(base_dir,'data')\n",
    "raw_data_dir =  os.path.join(data_dir,'raw')\n",
    "processed_data_dir = os.path.join(data_dir,'processed')"
   ]
  },
  {
   "cell_type": "code",
   "execution_count": 15,
   "metadata": {},
   "outputs": [],
   "source": [
    "# import custom utilities\n",
    "sys.path.append(os.path.join(base_dir,'utils'))\n",
    "import utils "
   ]
  },
  {
   "cell_type": "code",
   "execution_count": 3,
   "metadata": {},
   "outputs": [],
   "source": [
    "# Import the transformed data\n",
    "raw_data = os.path.join(processed_data_dir,'loan_tape_processed.csv')\n",
    "raw_df = pd.read_csv(raw_data,index_col=0)"
   ]
  },
  {
   "cell_type": "code",
   "execution_count": 4,
   "metadata": {},
   "outputs": [
    {
     "data": {
      "text/plain": [
       "Index(['amount', 'negbalancerate', 'brigitloansrepaid', 'accthistorydays',\n",
       "       'noactivityrate', 'recurringrate', 'debitcountz', 'debitamountz',\n",
       "       'dayswithbrigit', 'balance', 'dailydebitcountmean',\n",
       "       'credittodebitratiomean', 'highestpaydepositvoladj', 'dailyincomemean',\n",
       "       'recurrentcount', 'negbaleventcount', 'dailydebitcountsd',\n",
       "       'daystopayday', 'monthswithfeesrate', 'highestpaymonthage',\n",
       "       'default_flag', 'balancemeanCombined', 'payFreq__BIWEEKLY',\n",
       "       'payFreq__IRREGULAR', 'payFreq__MONTHLY', 'payFreq__MONTHLY_WEEKDAY',\n",
       "       'payFreq__SEMIMONTHLY', 'payFreq__Unknown', 'payFreq__WEEKLY',\n",
       "       'signUpSource__ANDROID', 'signUpSource__IOS', 'signUpSource__MOBILE',\n",
       "       'signUpSource__Unknown', 'signUpSource__WEB', 'signUpState__AK',\n",
       "       'signUpState__AL', 'signUpState__AR', 'signUpState__AZ',\n",
       "       'signUpState__CA', 'signUpState__CO', 'signUpState__CT',\n",
       "       'signUpState__DC', 'signUpState__DE', 'signUpState__FL',\n",
       "       'signUpState__GA', 'signUpState__HI', 'signUpState__IA',\n",
       "       'signUpState__ID', 'signUpState__IL', 'signUpState__IN',\n",
       "       'signUpState__KS', 'signUpState__KY', 'signUpState__LA',\n",
       "       'signUpState__MA', 'signUpState__MD', 'signUpState__ME',\n",
       "       'signUpState__MI', 'signUpState__MN', 'signUpState__MO',\n",
       "       'signUpState__MS', 'signUpState__MT', 'signUpState__NC',\n",
       "       'signUpState__ND', 'signUpState__NE', 'signUpState__NH',\n",
       "       'signUpState__NJ', 'signUpState__NM', 'signUpState__NV',\n",
       "       'signUpState__NY', 'signUpState__OH', 'signUpState__OK',\n",
       "       'signUpState__OR', 'signUpState__PA', 'signUpState__RI',\n",
       "       'signUpState__SC', 'signUpState__SD', 'signUpState__TN',\n",
       "       'signUpState__TX', 'signUpState__UT', 'signUpState__Unknown',\n",
       "       'signUpState__VA', 'signUpState__VT', 'signUpState__WA',\n",
       "       'signUpState__WI', 'signUpState__WV', 'signUpState__WY'],\n",
       "      dtype='object')"
      ]
     },
     "execution_count": 4,
     "metadata": {},
     "output_type": "execute_result"
    }
   ],
   "source": [
    "raw_df.columns"
   ]
  },
  {
   "cell_type": "markdown",
   "metadata": {},
   "source": [
    "### Transform data, set up train test splits, & Over Sample"
   ]
  },
  {
   "cell_type": "code",
   "execution_count": 5,
   "metadata": {},
   "outputs": [
    {
     "name": "stdout",
     "output_type": "stream",
     "text": [
      "length of oversampled data is  427628\n",
      "Number of no default in oversampled data 213814\n",
      "Number of default 213814\n",
      "Proportion of no default data in oversampled data is  0.5\n",
      "Proportion of default data in oversampled data is  0.5\n"
     ]
    }
   ],
   "source": [
    "## Create Train Test splits\n",
    "X = raw_df.drop(['default_flag'],axis=1).reset_index(drop=True)\n",
    "y = raw_df['default_flag']\n",
    "\n",
    "X_train, X_test, y_train, y_test = train_test_split(X,y,test_size=0.2, random_state=0, stratify=y)\n",
    "columns = X_train.columns\n",
    "\n",
    "## Over sample our training set\n",
    "over_sample = SMOTE(random_state=0)\n",
    "over_sample_data_X, over_sample_data_y = over_sample.fit_sample(X_train, y_train)\n",
    "over_sample_data_X = pd.DataFrame(data=over_sample_data_X,columns=columns )\n",
    "over_sample_data_y = pd.DataFrame(data=over_sample_data_y,columns=['y'])\n",
    "\n",
    "X_os_train, X_os_test, y_os_train, y_os_test = train_test_split(over_sample_data_X,over_sample_data_y,test_size=0.2, random_state=0, stratify=over_sample_data_y)\n",
    "\n",
    "print(\"length of oversampled data is \",len(over_sample_data_X))\n",
    "print(\"Number of no default in oversampled data\",len(over_sample_data_y[over_sample_data_y['y']==0]))\n",
    "print(\"Number of default\",len(over_sample_data_y[over_sample_data_y['y']==1]))\n",
    "print(\"Proportion of no default data in oversampled data is \",len(over_sample_data_y[over_sample_data_y['y']==0])/len(over_sample_data_X))\n",
    "print(\"Proportion of default data in oversampled data is \",len(over_sample_data_y[over_sample_data_y['y']==1])/len(over_sample_data_X))"
   ]
  },
  {
   "cell_type": "markdown",
   "metadata": {},
   "source": [
    "## First, I want to train a model on the interesting data points from my data exploration"
   ]
  },
  {
   "cell_type": "code",
   "execution_count": 6,
   "metadata": {},
   "outputs": [],
   "source": [
    "interesting_columns = [\n",
    "    'negbalancerate',\n",
    "    'brigitloansrepaid',\n",
    "    'accthistorydays',\n",
    "    'noactivityrate',\n",
    "    'dayswithbrigit',\n",
    "    'recurrentcount',\n",
    "    'highestpaymonthage',\n",
    "    'payFreq__BIWEEKLY',\n",
    "    'payFreq__IRREGULAR', \n",
    "    'payFreq__MONTHLY',\n",
    "    'payFreq__MONTHLY_WEEKDAY',\n",
    "    'payFreq__SEMIMONTHLY', \n",
    "    'payFreq__Unknown', \n",
    "    'payFreq__WEEKLY',\n",
    "    'daystopayday',\n",
    "    'dailydebitcountmean',\n",
    "    'monthswithfeesrate',\n",
    "    \n",
    "]"
   ]
  },
  {
   "cell_type": "markdown",
   "metadata": {},
   "source": [
    "### Run a statsmodel to quickly see if the p value on any variable is out of order"
   ]
  },
  {
   "cell_type": "code",
   "execution_count": 7,
   "metadata": {},
   "outputs": [
    {
     "name": "stdout",
     "output_type": "stream",
     "text": [
      "Optimization terminated successfully.\n",
      "         Current function value: 0.635250\n",
      "         Iterations 6\n",
      "                              Results: Logit\n",
      "==========================================================================\n",
      "Model:                  Logit              Pseudo R-squared:   0.084      \n",
      "Dependent Variable:     y                  AIC:                434674.7593\n",
      "Date:                   2019-06-29 22:39   BIC:                434857.3880\n",
      "No. Observations:       342102             Log-Likelihood:     -2.1732e+05\n",
      "Df Model:               16                 LL-Null:            -2.3713e+05\n",
      "Df Residuals:           342085             LLR p-value:        0.0000     \n",
      "Converged:              1.0000             Scale:              1.0000     \n",
      "No. Iterations:         6.0000                                            \n",
      "--------------------------------------------------------------------------\n",
      "                          Coef.  Std.Err.     z     P>|z|   [0.025  0.975]\n",
      "--------------------------------------------------------------------------\n",
      "negbalancerate            0.4260   0.0155   27.4550 0.0000  0.3956  0.4564\n",
      "brigitloansrepaid        -0.2025   0.0020 -101.3217 0.0000 -0.2064 -0.1986\n",
      "accthistorydays          -0.0021   0.0001  -13.7600 0.0000 -0.0023 -0.0018\n",
      "noactivityrate            0.9324   0.0481   19.3772 0.0000  0.8380  1.0267\n",
      "dayswithbrigit            0.0033   0.0001   41.4186 0.0000  0.0031  0.0034\n",
      "recurrentcount           -0.1265   0.0021  -60.0975 0.0000 -0.1307 -0.1224\n",
      "highestpaymonthage        0.0240   0.0035    6.9030 0.0000  0.0172  0.0308\n",
      "payFreq__BIWEEKLY        -0.0280   0.0328   -0.8529 0.3937 -0.0923  0.0363\n",
      "payFreq__IRREGULAR        0.7612   0.0435   17.4792 0.0000  0.6758  0.8465\n",
      "payFreq__MONTHLY          0.3713   0.0401    9.2659 0.0000  0.2927  0.4498\n",
      "payFreq__MONTHLY_WEEKDAY  0.2684   0.0741    3.6216 0.0003  0.1232  0.4137\n",
      "payFreq__SEMIMONTHLY      0.0136   0.0346    0.3936 0.6939 -0.0542  0.0814\n",
      "payFreq__Unknown          2.3549   0.0442   53.2959 0.0000  2.2683  2.4415\n",
      "payFreq__WEEKLY          -0.2503   0.0326   -7.6763 0.0000 -0.3142 -0.1864\n",
      "daystopayday              0.0056   0.0009    6.1095 0.0000  0.0038  0.0074\n",
      "dailydebitcountmean       0.0610   0.0040   15.3134 0.0000  0.0532  0.0688\n",
      "monthswithfeesrate       -0.1990   0.0126  -15.7693 0.0000 -0.2237 -0.1743\n",
      "==========================================================================\n",
      "\n"
     ]
    }
   ],
   "source": [
    "import statsmodels.api as sm\n",
    "logit_model=sm.Logit(y_os_train,X_os_train[interesting_columns])\n",
    "result=logit_model.fit()\n",
    "print(result.summary2())"
   ]
  },
  {
   "cell_type": "code",
   "execution_count": 8,
   "metadata": {},
   "outputs": [
    {
     "name": "stdout",
     "output_type": "stream",
     "text": [
      "Optimization terminated successfully.\n",
      "         Current function value: 0.635250\n",
      "         Iterations 6\n",
      "                              Results: Logit\n",
      "==========================================================================\n",
      "Model:                  Logit              Pseudo R-squared:   0.084      \n",
      "Dependent Variable:     y                  AIC:                434672.9142\n",
      "Date:                   2019-06-29 22:39   BIC:                434844.8000\n",
      "No. Observations:       342102             Log-Likelihood:     -2.1732e+05\n",
      "Df Model:               15                 LL-Null:            -2.3713e+05\n",
      "Df Residuals:           342086             LLR p-value:        0.0000     \n",
      "Converged:              1.0000             Scale:              1.0000     \n",
      "No. Iterations:         6.0000                                            \n",
      "--------------------------------------------------------------------------\n",
      "                          Coef.  Std.Err.     z     P>|z|   [0.025  0.975]\n",
      "--------------------------------------------------------------------------\n",
      "negbalancerate            0.4258   0.0155   27.4572 0.0000  0.3954  0.4562\n",
      "brigitloansrepaid        -0.2026   0.0020 -101.5991 0.0000 -0.2065 -0.1986\n",
      "accthistorydays          -0.0020   0.0001  -15.0187 0.0000 -0.0023 -0.0018\n",
      "noactivityrate            0.9447   0.0364   25.9480 0.0000  0.8734  1.0161\n",
      "dayswithbrigit            0.0033   0.0001   41.4683 0.0000  0.0031  0.0034\n",
      "recurrentcount           -0.1266   0.0021  -60.1463 0.0000 -0.1307 -0.1224\n",
      "highestpaymonthage        0.0239   0.0035    6.8934 0.0000  0.0171  0.0307\n",
      "payFreq__BIWEEKLY        -0.0402   0.0108   -3.7095 0.0002 -0.0614 -0.0189\n",
      "payFreq__IRREGULAR        0.7490   0.0307   24.4279 0.0000  0.6889  0.8091\n",
      "payFreq__MONTHLY          0.3582   0.0225   15.9424 0.0000  0.3142  0.4023\n",
      "payFreq__MONTHLY_WEEKDAY  0.2559   0.0669    3.8250 0.0001  0.1248  0.3870\n",
      "payFreq__Unknown          2.3428   0.0317   73.9747 0.0000  2.2807  2.4049\n",
      "payFreq__WEEKLY          -0.2618   0.0145  -18.0364 0.0000 -0.2902 -0.2333\n",
      "daystopayday              0.0057   0.0009    6.4232 0.0000  0.0040  0.0074\n",
      "dailydebitcountmean       0.0619   0.0032   19.1012 0.0000  0.0556  0.0683\n",
      "monthswithfeesrate       -0.1993   0.0126  -15.8154 0.0000 -0.2240 -0.1746\n",
      "==========================================================================\n",
      "\n"
     ]
    }
   ],
   "source": [
    "## payFreq__SEMIMONTHLY and payFreq__BIWEEKLY  have very high p values. Ill drop semi monthly\n",
    "interesting_columns.remove('payFreq__SEMIMONTHLY')\n",
    "import statsmodels.api as sm\n",
    "logit_model=sm.Logit(y_os_train,X_os_train[interesting_columns])\n",
    "result=logit_model.fit()\n",
    "print(result.summary2())"
   ]
  },
  {
   "cell_type": "markdown",
   "metadata": {},
   "source": [
    "### Looks good now."
   ]
  },
  {
   "cell_type": "markdown",
   "metadata": {},
   "source": [
    "### Run a gridsearch to tune the hyper parameters"
   ]
  },
  {
   "cell_type": "code",
   "execution_count": 9,
   "metadata": {},
   "outputs": [
    {
     "name": "stdout",
     "output_type": "stream",
     "text": [
      "Fitting 5 folds for each of 10 candidates, totalling 50 fits\n"
     ]
    },
    {
     "name": "stderr",
     "output_type": "stream",
     "text": [
      "[Parallel(n_jobs=6)]: Using backend LokyBackend with 6 concurrent workers.\n",
      "[Parallel(n_jobs=6)]: Done  38 tasks      | elapsed:  2.8min\n",
      "[Parallel(n_jobs=6)]: Done  50 out of  50 | elapsed:  3.4min finished\n",
      "C:\\Users\\richard\\.conda\\envs\\brigit\\lib\\site-packages\\sklearn\\linear_model\\logistic.py:947: ConvergenceWarning: lbfgs failed to converge. Increase the number of iterations.\n",
      "  \"of iterations.\", ConvergenceWarning)\n"
     ]
    },
    {
     "data": {
      "text/plain": [
       "GridSearchCV(cv=5, error_score='raise-deprecating',\n",
       "             estimator=LogisticRegression(C=1.0, class_weight=None, dual=False,\n",
       "                                          fit_intercept=True,\n",
       "                                          intercept_scaling=1, l1_ratio=None,\n",
       "                                          max_iter=500, multi_class='warn',\n",
       "                                          n_jobs=None, penalty='l2',\n",
       "                                          random_state=None, solver='lbfgs',\n",
       "                                          tol=0.0001, verbose=0,\n",
       "                                          warm_start=False),\n",
       "             iid='warn', n_jobs=6,\n",
       "             param_grid={'C': array([0.1, 0.2, 0.3, 0.4, 0.5, 0.6, 0.7, 0.8, 0.9, 1. ])},\n",
       "             pre_dispatch='2*n_jobs', refit=True, return_train_score=False,\n",
       "             scoring=None, verbose=True)"
      ]
     },
     "execution_count": 9,
     "metadata": {},
     "output_type": "execute_result"
    }
   ],
   "source": [
    "logreg_init = LogisticRegression(solver='lbfgs',max_iter=500)\n",
    "\n",
    "## \n",
    "params = {'C':np.linspace(.1,1,10)}\n",
    "gs_init = GridSearchCV(logreg_init,params,cv=5,verbose=True,n_jobs=6)\n",
    "gs_init.fit(X_os_train[interesting_columns],y_os_train['y'].ravel())"
   ]
  },
  {
   "cell_type": "markdown",
   "metadata": {},
   "source": [
    "### Fit logreg using best estimator from GridSearch"
   ]
  },
  {
   "cell_type": "code",
   "execution_count": 10,
   "metadata": {},
   "outputs": [
    {
     "name": "stderr",
     "output_type": "stream",
     "text": [
      "C:\\Users\\richard\\.conda\\envs\\brigit\\lib\\site-packages\\sklearn\\linear_model\\logistic.py:947: ConvergenceWarning: lbfgs failed to converge. Increase the number of iterations.\n",
      "  \"of iterations.\", ConvergenceWarning)\n"
     ]
    },
    {
     "data": {
      "text/plain": [
       "LogisticRegression(C=0.5, class_weight=None, dual=False, fit_intercept=True,\n",
       "                   intercept_scaling=1, l1_ratio=None, max_iter=500,\n",
       "                   multi_class='warn', n_jobs=None, penalty='l2',\n",
       "                   random_state=None, solver='lbfgs', tol=0.0001, verbose=0,\n",
       "                   warm_start=False)"
      ]
     },
     "execution_count": 10,
     "metadata": {},
     "output_type": "execute_result"
    }
   ],
   "source": [
    "logreg_init = LogisticRegression(C=gs_init.best_estimator_.C,solver='lbfgs',max_iter=500)\n",
    "logreg_init.fit(X_os_train[interesting_columns],y_os_train['y'])"
   ]
  },
  {
   "cell_type": "markdown",
   "metadata": {},
   "source": [
    "### Get overall accuracy of initial model"
   ]
  },
  {
   "cell_type": "code",
   "execution_count": 11,
   "metadata": {},
   "outputs": [
    {
     "name": "stdout",
     "output_type": "stream",
     "text": [
      "Accuracy of logistic regression classifier on test set: 0.63\n"
     ]
    }
   ],
   "source": [
    "y_pred_init_train = logreg_init.predict(X_os_test[interesting_columns])\n",
    "print('Accuracy of logistic regression classifier on test set: {:.2f}'.format(logreg_init.score(X_os_test[interesting_columns], y_os_test['y'])))"
   ]
  },
  {
   "cell_type": "markdown",
   "metadata": {},
   "source": [
    "### Classification Report For Initial Model"
   ]
  },
  {
   "cell_type": "code",
   "execution_count": 12,
   "metadata": {},
   "outputs": [
    {
     "name": "stdout",
     "output_type": "stream",
     "text": [
      "              precision    recall  f1-score   support\n",
      "\n",
      "           0       0.64      0.61      0.62     42763\n",
      "           1       0.63      0.66      0.64     42763\n",
      "\n",
      "    accuracy                           0.63     85526\n",
      "   macro avg       0.63      0.63      0.63     85526\n",
      "weighted avg       0.63      0.63      0.63     85526\n",
      "\n"
     ]
    }
   ],
   "source": [
    "print(classification_report(y_os_test['y'], y_pred_init_train))"
   ]
  },
  {
   "cell_type": "markdown",
   "metadata": {},
   "source": [
    "### Coefficients for initial log reg model"
   ]
  },
  {
   "cell_type": "code",
   "execution_count": 13,
   "metadata": {},
   "outputs": [
    {
     "data": {
      "text/html": [
       "<div>\n",
       "<style scoped>\n",
       "    .dataframe tbody tr th:only-of-type {\n",
       "        vertical-align: middle;\n",
       "    }\n",
       "\n",
       "    .dataframe tbody tr th {\n",
       "        vertical-align: top;\n",
       "    }\n",
       "\n",
       "    .dataframe thead th {\n",
       "        text-align: right;\n",
       "    }\n",
       "</style>\n",
       "<table border=\"1\" class=\"dataframe\">\n",
       "  <thead>\n",
       "    <tr style=\"text-align: right;\">\n",
       "      <th></th>\n",
       "      <th>Coefficients</th>\n",
       "    </tr>\n",
       "  </thead>\n",
       "  <tbody>\n",
       "    <tr>\n",
       "      <th>payFreq__WEEKLY</th>\n",
       "      <td>-0.352681</td>\n",
       "    </tr>\n",
       "    <tr>\n",
       "      <th>brigitloansrepaid</th>\n",
       "      <td>-0.203496</td>\n",
       "    </tr>\n",
       "    <tr>\n",
       "      <th>monthswithfeesrate</th>\n",
       "      <td>-0.173139</td>\n",
       "    </tr>\n",
       "    <tr>\n",
       "      <th>recurrentcount</th>\n",
       "      <td>-0.123959</td>\n",
       "    </tr>\n",
       "    <tr>\n",
       "      <th>payFreq__BIWEEKLY</th>\n",
       "      <td>-0.112686</td>\n",
       "    </tr>\n",
       "    <tr>\n",
       "      <th>accthistorydays</th>\n",
       "      <td>-0.002952</td>\n",
       "    </tr>\n",
       "    <tr>\n",
       "      <th>dayswithbrigit</th>\n",
       "      <td>0.003275</td>\n",
       "    </tr>\n",
       "    <tr>\n",
       "      <th>daystopayday</th>\n",
       "      <td>0.003630</td>\n",
       "    </tr>\n",
       "    <tr>\n",
       "      <th>dailydebitcountmean</th>\n",
       "      <td>0.027086</td>\n",
       "    </tr>\n",
       "    <tr>\n",
       "      <th>payFreq__MONTHLY_WEEKDAY</th>\n",
       "      <td>0.027959</td>\n",
       "    </tr>\n",
       "    <tr>\n",
       "      <th>highestpaymonthage</th>\n",
       "      <td>0.028097</td>\n",
       "    </tr>\n",
       "    <tr>\n",
       "      <th>payFreq__MONTHLY</th>\n",
       "      <td>0.253889</td>\n",
       "    </tr>\n",
       "    <tr>\n",
       "      <th>negbalancerate</th>\n",
       "      <td>0.395999</td>\n",
       "    </tr>\n",
       "    <tr>\n",
       "      <th>payFreq__IRREGULAR</th>\n",
       "      <td>0.554587</td>\n",
       "    </tr>\n",
       "    <tr>\n",
       "      <th>noactivityrate</th>\n",
       "      <td>0.632594</td>\n",
       "    </tr>\n",
       "    <tr>\n",
       "      <th>payFreq__Unknown</th>\n",
       "      <td>2.261003</td>\n",
       "    </tr>\n",
       "  </tbody>\n",
       "</table>\n",
       "</div>"
      ],
      "text/plain": [
       "                          Coefficients\n",
       "payFreq__WEEKLY              -0.352681\n",
       "brigitloansrepaid            -0.203496\n",
       "monthswithfeesrate           -0.173139\n",
       "recurrentcount               -0.123959\n",
       "payFreq__BIWEEKLY            -0.112686\n",
       "accthistorydays              -0.002952\n",
       "dayswithbrigit                0.003275\n",
       "daystopayday                  0.003630\n",
       "dailydebitcountmean           0.027086\n",
       "payFreq__MONTHLY_WEEKDAY      0.027959\n",
       "highestpaymonthage            0.028097\n",
       "payFreq__MONTHLY              0.253889\n",
       "negbalancerate                0.395999\n",
       "payFreq__IRREGULAR            0.554587\n",
       "noactivityrate                0.632594\n",
       "payFreq__Unknown              2.261003"
      ]
     },
     "execution_count": 13,
     "metadata": {},
     "output_type": "execute_result"
    }
   ],
   "source": [
    "coefs = pd.DataFrame(logreg_init.coef_,columns=X_os_test[interesting_columns].columns,index=['Coefficients']).T.sort_values(by='Coefficients')\n",
    "coefs"
   ]
  },
  {
   "cell_type": "markdown",
   "metadata": {},
   "source": [
    "### Plot ROC AUC curve for my initial model"
   ]
  },
  {
   "cell_type": "code",
   "execution_count": 16,
   "metadata": {},
   "outputs": [
    {
     "data": {
      "image/png": "[encoded data removed]",
      "text/plain": [
       "<Figure size 432x288 with 1 Axes>"
      ]
     },
     "metadata": {
      "needs_background": "light"
     },
     "output_type": "display_data"
    }
   ],
   "source": [
    "fig = plt.figure()\n",
    "ax = fig.add_axes([0,0,1,1])\n",
    "ax = utils.roc_auc_plot(x_test=X_os_test[interesting_columns],y_test=y_os_test['y'],y_pred=y_pred_init_train,model=logreg_init,ax=ax)\n",
    "ax.set_title('ROC - Initial Model');"
   ]
  },
  {
   "cell_type": "markdown",
   "metadata": {},
   "source": [
    "## Finally, how does this model perform on the final hold out set?\n",
    "\n",
    "### Get overall accuracy of initial model on hold out data"
   ]
  },
  {
   "cell_type": "code",
   "execution_count": 17,
   "metadata": {},
   "outputs": [
    {
     "name": "stdout",
     "output_type": "stream",
     "text": [
      "Accuracy of logistic regression classifier on test set: 0.61\n"
     ]
    }
   ],
   "source": [
    "y_pred_init_test = logreg_init.predict(X_test[interesting_columns])\n",
    "print('Accuracy of logistic regression classifier on test set: {:.2f}'.format(logreg_init.score(X_test[interesting_columns], y_test)))"
   ]
  },
  {
   "cell_type": "markdown",
   "metadata": {},
   "source": [
    "### Classification Report For Initial Model on holdout data"
   ]
  },
  {
   "cell_type": "code",
   "execution_count": 18,
   "metadata": {},
   "outputs": [
    {
     "name": "stdout",
     "output_type": "stream",
     "text": [
      "              precision    recall  f1-score   support\n",
      "\n",
      "           0       0.93      0.61      0.74     53454\n",
      "           1       0.18      0.65      0.28      7120\n",
      "\n",
      "    accuracy                           0.61     60574\n",
      "   macro avg       0.55      0.63      0.51     60574\n",
      "weighted avg       0.84      0.61      0.68     60574\n",
      "\n"
     ]
    }
   ],
   "source": [
    "print(classification_report(y_test, y_pred_init_test))"
   ]
  },
  {
   "cell_type": "code",
   "execution_count": 19,
   "metadata": {},
   "outputs": [
    {
     "name": "stdout",
     "output_type": "stream",
     "text": [
      "Balanced Accuracy Score: 0.3075\n"
     ]
    }
   ],
   "source": [
    "init_tn, init_fp, init_fn, init_tp = confusion_matrix(y_test,y_pred_init_test).ravel()\n",
    "# Get total sample size\n",
    "init_n = init_tn+init_fp+init_fn+init_tp\n",
    "\n",
    "init_balanced_accuracy = ((init_tp/init_n)+ (init_tn/init_n))/2 # see https://en.wikipedia.org/wiki/Precision_and_recall#Imbalanced_Data\n",
    "print('Balanced Accuracy Score: {:0.4f}'.format(init_balanced_accuracy))"
   ]
  },
  {
   "cell_type": "markdown",
   "metadata": {},
   "source": [
    "### Plot initial model ROC AUC for hold out set and compare to training data"
   ]
  },
  {
   "cell_type": "code",
   "execution_count": 20,
   "metadata": {},
   "outputs": [
    {
     "data": {
      "image/png": "[encoded data removed]",
      "text/plain": [
       "<Figure size 432x288 with 1 Axes>"
      ]
     },
     "metadata": {
      "needs_background": "light"
     },
     "output_type": "display_data"
    }
   ],
   "source": [
    "fig = plt.figure()\n",
    "ax = fig.add_axes([0,0,1,1])\n",
    "ax = utils.roc_auc_plot(x_test=X_test[interesting_columns],y_test=y_test,y_pred=y_pred_init_test,model=logreg_init,ax=ax, label='Holdout DATA AUC')\n",
    "ax = utils.roc_auc_plot(x_test=X_os_test[interesting_columns],y_test=y_os_test['y'],y_pred=y_pred_init_train,model=logreg_init,ax=ax, label='Training AUC')\n",
    "ax.set_title('ROC - Initial Model');"
   ]
  },
  {
   "cell_type": "markdown",
   "metadata": {},
   "source": [
    "### Now that I have a benchmark to work from, let's see if we can improve this score. I'll start with a recursive feature elimination to see if we can pick better features.\n",
    "\n",
    "<a name=\"RFE Training\"></a>\n",
    "## Train model from RFE features"
   ]
  },
  {
   "cell_type": "code",
   "execution_count": 21,
   "metadata": {},
   "outputs": [],
   "source": [
    "data_final_vars=raw_df.columns.values.tolist()\n",
    "y=['y']\n",
    "X=[i for i in data_final_vars if i not in y]\n",
    "\n",
    "logreg = LogisticRegression(solver='liblinear',max_iter=300)\n",
    "\n",
    "rfe = RFE(logreg, 14,)\n",
    "rfe = rfe.fit(over_sample_data_X, over_sample_data_y.values.ravel())"
   ]
  },
  {
   "cell_type": "markdown",
   "metadata": {},
   "source": [
    "### Run a statsmodel to quickly see if the p value on any variable is out of order"
   ]
  },
  {
   "cell_type": "code",
   "execution_count": 22,
   "metadata": {},
   "outputs": [
    {
     "name": "stdout",
     "output_type": "stream",
     "text": [
      "Optimization terminated successfully.\n",
      "         Current function value: 0.660929\n",
      "         Iterations 6\n",
      "                           Results: Logit\n",
      "=====================================================================\n",
      "Model:               Logit             Pseudo R-squared:  0.046      \n",
      "Dependent Variable:  y                 AIC:               452238.4218\n",
      "Date:                2019-06-30 07:35  BIC:               452388.8219\n",
      "No. Observations:    342102            Log-Likelihood:    -2.2611e+05\n",
      "Df Model:            13                LL-Null:           -2.3713e+05\n",
      "Df Residuals:        342088            LLR p-value:       0.0000     \n",
      "Converged:           1.0000            Scale:             1.0000     \n",
      "No. Iterations:      6.0000                                          \n",
      "---------------------------------------------------------------------\n",
      "                      Coef.  Std.Err.    z     P>|z|   [0.025  0.975]\n",
      "---------------------------------------------------------------------\n",
      "noactivityrate        1.7429   0.0269  64.8052 0.0000  1.6901  1.7956\n",
      "recurringrate        -3.7411   0.0619 -60.4590 0.0000 -3.8624 -3.6198\n",
      "debitcountz          -0.4378   0.0232 -18.9061 0.0000 -0.4832 -0.3924\n",
      "debitamountz          0.4615   0.0288  16.0231 0.0000  0.4050  0.5179\n",
      "payFreq__BIWEEKLY    -0.6788   0.0117 -58.2674 0.0000 -0.7017 -0.6560\n",
      "payFreq__SEMIMONTHLY -0.6385   0.0146 -43.7864 0.0000 -0.6671 -0.6100\n",
      "payFreq__Unknown      1.8421   0.0322  57.1403 0.0000  1.7790  1.9053\n",
      "payFreq__WEEKLY      -0.9806   0.0137 -71.4131 0.0000 -1.0075 -0.9537\n",
      "signUpSource__MOBILE -0.4065   0.0335 -12.1308 0.0000 -0.4721 -0.3408\n",
      "signUpState__AK       0.4527   0.1115   4.0591 0.0000  0.2341  0.6713\n",
      "signUpState__DC       0.4856   0.0691   7.0249 0.0000  0.3501  0.6211\n",
      "signUpState__MI       0.4090   0.0337  12.1394 0.0000  0.3430  0.4751\n",
      "signUpState__MO       0.4498   0.0432  10.4085 0.0000  0.3651  0.5345\n",
      "signUpState__SC       0.4780   0.0336  14.2109 0.0000  0.4121  0.5439\n",
      "=====================================================================\n",
      "\n"
     ]
    }
   ],
   "source": [
    "logit_model = sm.Logit(y_os_train,X_os_train[columns[rfe.support_]])\n",
    "result=logit_model.fit()\n",
    "print(result.summary2())"
   ]
  },
  {
   "cell_type": "markdown",
   "metadata": {},
   "source": [
    "### P-Values seem to be inline let's move on to the grid search"
   ]
  },
  {
   "cell_type": "code",
   "execution_count": 23,
   "metadata": {},
   "outputs": [
    {
     "name": "stdout",
     "output_type": "stream",
     "text": [
      "Fitting 5 folds for each of 10 candidates, totalling 50 fits\n"
     ]
    },
    {
     "name": "stderr",
     "output_type": "stream",
     "text": [
      "[Parallel(n_jobs=6)]: Using backend LokyBackend with 6 concurrent workers.\n",
      "[Parallel(n_jobs=6)]: Done  38 tasks      | elapsed:   33.8s\n",
      "[Parallel(n_jobs=6)]: Done  50 out of  50 | elapsed:   39.2s finished\n"
     ]
    },
    {
     "data": {
      "text/plain": [
       "GridSearchCV(cv=5, error_score='raise-deprecating',\n",
       "             estimator=LogisticRegression(C=1.0, class_weight=None, dual=False,\n",
       "                                          fit_intercept=True,\n",
       "                                          intercept_scaling=1, l1_ratio=None,\n",
       "                                          max_iter=500, multi_class='warn',\n",
       "                                          n_jobs=None, penalty='l2',\n",
       "                                          random_state=None, solver='lbfgs',\n",
       "                                          tol=0.0001, verbose=0,\n",
       "                                          warm_start=False),\n",
       "             iid='warn', n_jobs=6,\n",
       "             param_grid={'C': array([0.1, 0.2, 0.3, 0.4, 0.5, 0.6, 0.7, 0.8, 0.9, 1. ])},\n",
       "             pre_dispatch='2*n_jobs', refit=True, return_train_score=False,\n",
       "             scoring=None, verbose=True)"
      ]
     },
     "execution_count": 23,
     "metadata": {},
     "output_type": "execute_result"
    }
   ],
   "source": [
    "logreg = LogisticRegression(solver='lbfgs',max_iter=500)\n",
    "\n",
    "## \n",
    "params = {'C':np.linspace(.1,1,10)}\n",
    "gs_rfe = GridSearchCV(logreg,params,cv=5,verbose=True,n_jobs=6)\n",
    "gs_rfe.fit(X_os_train[columns[rfe.support_]],y_os_train['y'].ravel())"
   ]
  },
  {
   "cell_type": "code",
   "execution_count": 24,
   "metadata": {},
   "outputs": [
    {
     "data": {
      "text/plain": [
       "LogisticRegression(C=0.30000000000000004, class_weight=None, dual=False,\n",
       "                   fit_intercept=True, intercept_scaling=1, l1_ratio=None,\n",
       "                   max_iter=500, multi_class='warn', n_jobs=None, penalty='l2',\n",
       "                   random_state=None, solver='liblinear', tol=0.0001, verbose=0,\n",
       "                   warm_start=False)"
      ]
     },
     "execution_count": 24,
     "metadata": {},
     "output_type": "execute_result"
    }
   ],
   "source": [
    "logreg = LogisticRegression(C=gs_rfe.best_estimator_.C,solver='liblinear',max_iter=500)\n",
    "logreg.fit(X_os_train[columns[rfe.support_]],y_os_train['y'])"
   ]
  },
  {
   "cell_type": "code",
   "execution_count": 25,
   "metadata": {},
   "outputs": [
    {
     "name": "stdout",
     "output_type": "stream",
     "text": [
      "Accuracy of logistic regression classifier on test set: 0.59\n"
     ]
    }
   ],
   "source": [
    "y_pred_rfe_train = logreg.predict(X_os_test[columns[rfe.support_]])\n",
    "print('Accuracy of logistic regression classifier on test set: {:.2f}'.format(logreg.score(X_os_test[columns[rfe.support_]], y_os_test['y'])))"
   ]
  },
  {
   "cell_type": "markdown",
   "metadata": {},
   "source": [
    "### The accuracy is similar but slightly lower than my original model. What do the other metrics say?\n",
    "\n",
    "### Coefficients for RFE trainged log reg model"
   ]
  },
  {
   "cell_type": "code",
   "execution_count": 29,
   "metadata": {},
   "outputs": [
    {
     "data": {
      "text/html": [
       "<div>\n",
       "<style scoped>\n",
       "    .dataframe tbody tr th:only-of-type {\n",
       "        vertical-align: middle;\n",
       "    }\n",
       "\n",
       "    .dataframe tbody tr th {\n",
       "        vertical-align: top;\n",
       "    }\n",
       "\n",
       "    .dataframe thead th {\n",
       "        text-align: right;\n",
       "    }\n",
       "</style>\n",
       "<table border=\"1\" class=\"dataframe\">\n",
       "  <thead>\n",
       "    <tr style=\"text-align: right;\">\n",
       "      <th></th>\n",
       "      <th>Coefficients</th>\n",
       "    </tr>\n",
       "  </thead>\n",
       "  <tbody>\n",
       "    <tr>\n",
       "      <th>recurringrate</th>\n",
       "      <td>-3.615070</td>\n",
       "    </tr>\n",
       "    <tr>\n",
       "      <th>payFreq__WEEKLY</th>\n",
       "      <td>-0.918948</td>\n",
       "    </tr>\n",
       "    <tr>\n",
       "      <th>payFreq__BIWEEKLY</th>\n",
       "      <td>-0.620831</td>\n",
       "    </tr>\n",
       "    <tr>\n",
       "      <th>payFreq__SEMIMONTHLY</th>\n",
       "      <td>-0.582769</td>\n",
       "    </tr>\n",
       "    <tr>\n",
       "      <th>debitcountz</th>\n",
       "      <td>-0.440086</td>\n",
       "    </tr>\n",
       "    <tr>\n",
       "      <th>signUpSource__MOBILE</th>\n",
       "      <td>-0.400149</td>\n",
       "    </tr>\n",
       "    <tr>\n",
       "      <th>signUpState__MI</th>\n",
       "      <td>0.409600</td>\n",
       "    </tr>\n",
       "    <tr>\n",
       "      <th>signUpState__AK</th>\n",
       "      <td>0.439911</td>\n",
       "    </tr>\n",
       "    <tr>\n",
       "      <th>signUpState__MO</th>\n",
       "      <td>0.450581</td>\n",
       "    </tr>\n",
       "    <tr>\n",
       "      <th>debitamountz</th>\n",
       "      <td>0.467104</td>\n",
       "    </tr>\n",
       "    <tr>\n",
       "      <th>signUpState__SC</th>\n",
       "      <td>0.481125</td>\n",
       "    </tr>\n",
       "    <tr>\n",
       "      <th>signUpState__DC</th>\n",
       "      <td>0.482915</td>\n",
       "    </tr>\n",
       "    <tr>\n",
       "      <th>noactivityrate</th>\n",
       "      <td>1.866028</td>\n",
       "    </tr>\n",
       "    <tr>\n",
       "      <th>payFreq__Unknown</th>\n",
       "      <td>1.890266</td>\n",
       "    </tr>\n",
       "  </tbody>\n",
       "</table>\n",
       "</div>"
      ],
      "text/plain": [
       "                      Coefficients\n",
       "recurringrate            -3.615070\n",
       "payFreq__WEEKLY          -0.918948\n",
       "payFreq__BIWEEKLY        -0.620831\n",
       "payFreq__SEMIMONTHLY     -0.582769\n",
       "debitcountz              -0.440086\n",
       "signUpSource__MOBILE     -0.400149\n",
       "signUpState__MI           0.409600\n",
       "signUpState__AK           0.439911\n",
       "signUpState__MO           0.450581\n",
       "debitamountz              0.467104\n",
       "signUpState__SC           0.481125\n",
       "signUpState__DC           0.482915\n",
       "noactivityrate            1.866028\n",
       "payFreq__Unknown          1.890266"
      ]
     },
     "execution_count": 29,
     "metadata": {},
     "output_type": "execute_result"
    }
   ],
   "source": [
    "coefs_rfe = pd.DataFrame(logreg.coef_,columns=X_os_test[columns[rfe.support_]].columns,index=['Coefficients']).T.sort_values(by='Coefficients')\n",
    "coefs_rfe"
   ]
  },
  {
   "cell_type": "markdown",
   "metadata": {},
   "source": [
    "### Classification Report For RFE trained model"
   ]
  },
  {
   "cell_type": "code",
   "execution_count": 31,
   "metadata": {},
   "outputs": [
    {
     "name": "stdout",
     "output_type": "stream",
     "text": [
      "              precision    recall  f1-score   support\n",
      "\n",
      "           0       0.58      0.66      0.62     42763\n",
      "           1       0.61      0.52      0.56     42763\n",
      "\n",
      "    accuracy                           0.59     85526\n",
      "   macro avg       0.59      0.59      0.59     85526\n",
      "weighted avg       0.59      0.59      0.59     85526\n",
      "\n"
     ]
    }
   ],
   "source": [
    "print(classification_report(y_os_test['y'], y_pred_rfe_train))"
   ]
  },
  {
   "cell_type": "code",
   "execution_count": 33,
   "metadata": {},
   "outputs": [
    {
     "data": {
      "image/png": "[encoded data removed]",
      "text/plain": [
       "<Figure size 432x288 with 1 Axes>"
      ]
     },
     "metadata": {
      "needs_background": "light"
     },
     "output_type": "display_data"
    }
   ],
   "source": [
    "## RFE VS Initial Model\n",
    "fig = plt.figure()\n",
    "ax = fig.add_axes([0,0,1,1])\n",
    "ax = utils.roc_auc_plot(x_test=X_os_test[columns[rfe.support_]],y_test=y_os_test['y'],y_pred=y_pred_rfe_train,model=logreg,ax=ax,label='RFE Trained ')\n",
    "ax = utils.roc_auc_plot(x_test=X_os_test[interesting_columns],y_test=y_os_test['y'],y_pred=y_pred_init_train,model=logreg_init,ax=ax,label='Initial Model ')\n",
    "ax.set_title('ROC - Initial Model');"
   ]
  },
  {
   "cell_type": "markdown",
   "metadata": {},
   "source": [
    "### The initial model outperforms the RFE model on the training dataset. How do the two compare against the hold out data set?"
   ]
  },
  {
   "cell_type": "code",
   "execution_count": 34,
   "metadata": {},
   "outputs": [
    {
     "name": "stdout",
     "output_type": "stream",
     "text": [
      "Accuracy of logistic regression classifier on test set: 0.64\n"
     ]
    }
   ],
   "source": [
    "y_pred_rfe_test = logreg.predict(X_test[columns[rfe.support_]])\n",
    "print('Accuracy of logistic regression classifier on test set: {:.2f}'.format(logreg.score(X_test[columns[rfe.support_]], y_test)))"
   ]
  },
  {
   "cell_type": "code",
   "execution_count": 35,
   "metadata": {},
   "outputs": [
    {
     "name": "stdout",
     "output_type": "stream",
     "text": [
      "              precision    recall  f1-score   support\n",
      "\n",
      "           0       0.91      0.66      0.76     53454\n",
      "           1       0.17      0.51      0.25      7120\n",
      "\n",
      "    accuracy                           0.64     60574\n",
      "   macro avg       0.54      0.58      0.51     60574\n",
      "weighted avg       0.82      0.64      0.70     60574\n",
      "\n"
     ]
    }
   ],
   "source": [
    "print(classification_report(y_test, y_pred_rfe_test))"
   ]
  },
  {
   "cell_type": "code",
   "execution_count": 38,
   "metadata": {},
   "outputs": [
    {
     "data": {
      "image/png": "[encoded data removed]",
      "text/plain": [
       "<Figure size 432x288 with 1 Axes>"
      ]
     },
     "metadata": {
      "needs_background": "light"
     },
     "output_type": "display_data"
    }
   ],
   "source": [
    "## RFE test holdout set VS Initial Model holdout set\n",
    "fig = plt.figure()\n",
    "ax = fig.add_axes([0,0,1,1])\n",
    "ax = utils.roc_auc_plot(x_test=X_test[columns[rfe.support_]],y_test=y_test,y_pred=y_pred_rfe_test,model=logreg,ax=ax,label='RFE Trained ')\n",
    "ax = utils.roc_auc_plot(x_test=X_test[interesting_columns],y_test=y_test,y_pred=y_pred_init_test,model=logreg_init,ax=ax,label='Initial Model ')\n",
    "ax.set_title('ROC - Initial Model');"
   ]
  },
  {
   "cell_type": "code",
   "execution_count": 39,
   "metadata": {},
   "outputs": [
    {
     "name": "stdout",
     "output_type": "stream",
     "text": [
      "Balanced Accuracy Score: 0.3205\n"
     ]
    }
   ],
   "source": [
    "tn, fp, fn, tp = confusion_matrix(y_test,y_pred_rfe_test).ravel()\n",
    "# Get total sample size\n",
    "n = tn+fp+fn+tp\n",
    "\n",
    "balanced_accuracy1 = ((tp/n)+ (tn/n))/2\n",
    "print('Balanced Accuracy Score: {:0.4f}'.format(balanced_accuracy1))"
   ]
  },
  {
   "cell_type": "markdown",
   "metadata": {},
   "source": [
    "### Although the initial model outperforms by a AUC metric, it underperforms in the balanced accuracy score. Lets compare the scores:\n",
    "\n",
    "#### AUC: RFE .58, init .63\n",
    "#### Balanced Accuracy: RFE .32, init .30\n",
    "#### Precision (Default): RFE .17, init .18\n",
    "#### Recall (Default): RFE .51, init .64\n",
    "#### F1-Score (Default): RFE .25, init  .28\n",
    "\n",
    "### Since these two models are so close in score, I'm going to iterate on the init model. The features it provides give us more information on the user's behavior vs using location as a decision factor"
   ]
  },
  {
   "cell_type": "markdown",
   "metadata": {},
   "source": [
    "## Try a new feature\n",
    "\n",
    "### Since bad behavior (negative balance rate and such) provide an indicator that a loan may default, can we engineer a new feature that will strengthen our model?"
   ]
  },
  {
   "cell_type": "code",
   "execution_count": 40,
   "metadata": {},
   "outputs": [],
   "source": [
    "raw_df['days_negative_balance'] = raw_df['negbalancerate']*(raw_df['accthistorydays'])"
   ]
  },
  {
   "cell_type": "code",
   "execution_count": 41,
   "metadata": {},
   "outputs": [],
   "source": [
    "import copy\n",
    "new_interesting_columns = copy.deepcopy(interesting_columns)\n",
    "new_interesting_columns.append('days_negative_balance')"
   ]
  },
  {
   "cell_type": "code",
   "execution_count": 42,
   "metadata": {},
   "outputs": [
    {
     "name": "stdout",
     "output_type": "stream",
     "text": [
      "length of oversampled data is  427628\n",
      "Number of no subscription in oversampled data 213814\n",
      "Number of subscription 213814\n",
      "Proportion of no default data in oversampled data is  0.5\n",
      "Proportion of default data in oversampled data is  0.5\n"
     ]
    }
   ],
   "source": [
    "## Create Train Test splits\n",
    "X = raw_df.drop(['default_flag'],axis=1).reset_index(drop=True)\n",
    "y = raw_df['default_flag']\n",
    "\n",
    "X_train, X_test, y_train, y_test = train_test_split(X,y,test_size=0.2, random_state=0, stratify=y)\n",
    "columns = X_train.columns\n",
    "\n",
    "## Over sample our training set\n",
    "over_sample = SMOTE(random_state=0)\n",
    "over_sample_data_X, over_sample_data_y = over_sample.fit_sample(X_train, y_train)\n",
    "over_sample_data_X = pd.DataFrame(data=over_sample_data_X,columns=columns )\n",
    "over_sample_data_y = pd.DataFrame(data=over_sample_data_y,columns=['y'])\n",
    "\n",
    "X_os_train, X_os_test, y_os_train, y_os_test = train_test_split(over_sample_data_X,over_sample_data_y,test_size=0.2, random_state=0, stratify=over_sample_data_y)\n",
    "\n",
    "print(\"length of oversampled data is \",len(over_sample_data_X))\n",
    "print(\"Number of no subscription in oversampled data\",len(over_sample_data_y[over_sample_data_y['y']==0]))\n",
    "print(\"Number of subscription\",len(over_sample_data_y[over_sample_data_y['y']==1]))\n",
    "print(\"Proportion of no default data in oversampled data is \",len(over_sample_data_y[over_sample_data_y['y']==0])/len(over_sample_data_X))\n",
    "print(\"Proportion of default data in oversampled data is \",len(over_sample_data_y[over_sample_data_y['y']==1])/len(over_sample_data_X))"
   ]
  },
  {
   "cell_type": "code",
   "execution_count": 43,
   "metadata": {},
   "outputs": [
    {
     "name": "stdout",
     "output_type": "stream",
     "text": [
      "Optimization terminated successfully.\n",
      "         Current function value: 0.635970\n",
      "         Iterations 6\n",
      "                              Results: Logit\n",
      "==========================================================================\n",
      "Model:                  Logit              Pseudo R-squared:   0.082      \n",
      "Dependent Variable:     y                  AIC:                435166.9292\n",
      "Date:                   2019-06-30 07:42   BIC:                435349.5578\n",
      "No. Observations:       342102             Log-Likelihood:     -2.1757e+05\n",
      "Df Model:               16                 LL-Null:            -2.3713e+05\n",
      "Df Residuals:           342085             LLR p-value:        0.0000     \n",
      "Converged:              1.0000             Scale:              1.0000     \n",
      "No. Iterations:         6.0000                                            \n",
      "--------------------------------------------------------------------------\n",
      "                          Coef.  Std.Err.     z     P>|z|   [0.025  0.975]\n",
      "--------------------------------------------------------------------------\n",
      "negbalancerate            0.5911   0.0601    9.8303 0.0000  0.4733  0.7090\n",
      "brigitloansrepaid        -0.2025   0.0020 -101.5246 0.0000 -0.2064 -0.1986\n",
      "accthistorydays          -0.0018   0.0002  -12.1002 0.0000 -0.0021 -0.0015\n",
      "noactivityrate            0.9056   0.0391   23.1658 0.0000  0.8290  0.9822\n",
      "dayswithbrigit            0.0032   0.0001   40.8581 0.0000  0.0031  0.0034\n",
      "recurrentcount           -0.1279   0.0021  -60.7681 0.0000 -0.1320 -0.1238\n",
      "highestpaymonthage        0.0266   0.0035    7.6721 0.0000  0.0198  0.0335\n",
      "payFreq__BIWEEKLY        -0.0430   0.0109   -3.9294 0.0001 -0.0644 -0.0216\n",
      "payFreq__IRREGULAR        0.7551   0.0307   24.6316 0.0000  0.6950  0.8152\n",
      "payFreq__MONTHLY          0.3597   0.0225   16.0068 0.0000  0.3157  0.4038\n",
      "payFreq__MONTHLY_WEEKDAY  0.2570   0.0672    3.8264 0.0001  0.1254  0.3886\n",
      "payFreq__Unknown          2.3355   0.0317   73.6274 0.0000  2.2734  2.3977\n",
      "payFreq__WEEKLY          -0.2550   0.0147  -17.3940 0.0000 -0.2838 -0.2263\n",
      "daystopayday              0.0056   0.0009    6.2982 0.0000  0.0039  0.0074\n",
      "dailydebitcountmean       0.0578   0.0034   16.9867 0.0000  0.0511  0.0644\n",
      "monthswithfeesrate       -0.1682   0.0126  -13.3387 0.0000 -0.1929 -0.1434\n",
      "days_negative_balance    -0.0015   0.0004   -4.1916 0.0000 -0.0022 -0.0008\n",
      "==========================================================================\n",
      "\n"
     ]
    }
   ],
   "source": [
    "logit_model=sm.Logit(y_os_train,X_os_train[new_interesting_columns])\n",
    "result=logit_model.fit()\n",
    "print(result.summary2())"
   ]
  },
  {
   "cell_type": "markdown",
   "metadata": {},
   "source": [
    "### Use GS to find ideal hyperparameters"
   ]
  },
  {
   "cell_type": "code",
   "execution_count": 45,
   "metadata": {},
   "outputs": [
    {
     "name": "stdout",
     "output_type": "stream",
     "text": [
      "Fitting 5 folds for each of 10 candidates, totalling 50 fits\n"
     ]
    },
    {
     "name": "stderr",
     "output_type": "stream",
     "text": [
      "[Parallel(n_jobs=8)]: Using backend LokyBackend with 8 concurrent workers.\n",
      "[Parallel(n_jobs=8)]: Done  34 tasks      | elapsed:  1.5min\n",
      "[Parallel(n_jobs=8)]: Done  50 out of  50 | elapsed:  2.0min finished\n"
     ]
    },
    {
     "data": {
      "text/plain": [
       "GridSearchCV(cv=5, error_score='raise-deprecating',\n",
       "             estimator=LogisticRegression(C=1.0, class_weight=None, dual=False,\n",
       "                                          fit_intercept=True,\n",
       "                                          intercept_scaling=1, l1_ratio=None,\n",
       "                                          max_iter=500, multi_class='warn',\n",
       "                                          n_jobs=None, penalty='l2',\n",
       "                                          random_state=None, solver='liblinear',\n",
       "                                          tol=0.0001, verbose=0,\n",
       "                                          warm_start=False),\n",
       "             iid='warn', n_jobs=8,\n",
       "             param_grid={'C': array([0.1, 0.2, 0.3, 0.4, 0.5, 0.6, 0.7, 0.8, 0.9, 1. ])},\n",
       "             pre_dispatch='2*n_jobs', refit=True, return_train_score=False,\n",
       "             scoring=None, verbose=True)"
      ]
     },
     "execution_count": 45,
     "metadata": {},
     "output_type": "execute_result"
    }
   ],
   "source": [
    "logreg_init_1 = LogisticRegression(solver='liblinear',max_iter=500)\n",
    "\n",
    "## \n",
    "params = {'C':np.linspace(.1,1,10)}\n",
    "gs_init_1 = GridSearchCV(logreg_init_1,params,cv=5,verbose=True,n_jobs=8)\n",
    "gs_init_1.fit(X_os_train[new_interesting_columns],y_os_train['y'].ravel())"
   ]
  },
  {
   "cell_type": "code",
   "execution_count": 46,
   "metadata": {},
   "outputs": [
    {
     "data": {
      "text/plain": [
       "LogisticRegression(C=1.0, class_weight=None, dual=False, fit_intercept=True,\n",
       "                   intercept_scaling=1, l1_ratio=None, max_iter=500,\n",
       "                   multi_class='warn', n_jobs=None, penalty='l2',\n",
       "                   random_state=None, solver='liblinear', tol=0.0001, verbose=0,\n",
       "                   warm_start=False)"
      ]
     },
     "execution_count": 46,
     "metadata": {},
     "output_type": "execute_result"
    }
   ],
   "source": [
    "logreg_init_1 = LogisticRegression(C=gs_init_1.best_estimator_.C,solver='liblinear',max_iter=500)\n",
    "logreg_init_1.fit(X_os_train[new_interesting_columns],y_os_train['y'])"
   ]
  },
  {
   "cell_type": "code",
   "execution_count": 47,
   "metadata": {},
   "outputs": [
    {
     "name": "stdout",
     "output_type": "stream",
     "text": [
      "Accuracy of logistic regression classifier on test set: 0.63\n"
     ]
    }
   ],
   "source": [
    "y_pred_init1_train = logreg_init_1.predict(X_os_test[new_interesting_columns])\n",
    "print('Accuracy of logistic regression classifier on test set: {:.2f}'.format(logreg_init_1.score(X_os_test[new_interesting_columns], y_os_test['y'])))"
   ]
  },
  {
   "cell_type": "code",
   "execution_count": 48,
   "metadata": {},
   "outputs": [
    {
     "name": "stdout",
     "output_type": "stream",
     "text": [
      "              precision    recall  f1-score   support\n",
      "\n",
      "           0       0.64      0.61      0.62     42763\n",
      "           1       0.63      0.65      0.64     42763\n",
      "\n",
      "    accuracy                           0.63     85526\n",
      "   macro avg       0.63      0.63      0.63     85526\n",
      "weighted avg       0.63      0.63      0.63     85526\n",
      "\n"
     ]
    }
   ],
   "source": [
    "print(classification_report(y_os_test['y'], y_pred_init1_train))"
   ]
  },
  {
   "cell_type": "code",
   "execution_count": 49,
   "metadata": {},
   "outputs": [
    {
     "data": {
      "text/html": [
       "<div>\n",
       "<style scoped>\n",
       "    .dataframe tbody tr th:only-of-type {\n",
       "        vertical-align: middle;\n",
       "    }\n",
       "\n",
       "    .dataframe tbody tr th {\n",
       "        vertical-align: top;\n",
       "    }\n",
       "\n",
       "    .dataframe thead th {\n",
       "        text-align: right;\n",
       "    }\n",
       "</style>\n",
       "<table border=\"1\" class=\"dataframe\">\n",
       "  <thead>\n",
       "    <tr style=\"text-align: right;\">\n",
       "      <th></th>\n",
       "      <th>Coefficients</th>\n",
       "    </tr>\n",
       "  </thead>\n",
       "  <tbody>\n",
       "    <tr>\n",
       "      <th>payFreq__WEEKLY</th>\n",
       "      <td>-0.257563</td>\n",
       "    </tr>\n",
       "    <tr>\n",
       "      <th>brigitloansrepaid</th>\n",
       "      <td>-0.202523</td>\n",
       "    </tr>\n",
       "    <tr>\n",
       "      <th>monthswithfeesrate</th>\n",
       "      <td>-0.166715</td>\n",
       "    </tr>\n",
       "    <tr>\n",
       "      <th>recurrentcount</th>\n",
       "      <td>-0.127947</td>\n",
       "    </tr>\n",
       "    <tr>\n",
       "      <th>payFreq__BIWEEKLY</th>\n",
       "      <td>-0.044779</td>\n",
       "    </tr>\n",
       "    <tr>\n",
       "      <th>accthistorydays</th>\n",
       "      <td>-0.001870</td>\n",
       "    </tr>\n",
       "    <tr>\n",
       "      <th>days_negative_balance</th>\n",
       "      <td>-0.001346</td>\n",
       "    </tr>\n",
       "    <tr>\n",
       "      <th>dayswithbrigit</th>\n",
       "      <td>0.003226</td>\n",
       "    </tr>\n",
       "    <tr>\n",
       "      <th>daystopayday</th>\n",
       "      <td>0.005567</td>\n",
       "    </tr>\n",
       "    <tr>\n",
       "      <th>highestpaymonthage</th>\n",
       "      <td>0.026581</td>\n",
       "    </tr>\n",
       "    <tr>\n",
       "      <th>dailydebitcountmean</th>\n",
       "      <td>0.056705</td>\n",
       "    </tr>\n",
       "    <tr>\n",
       "      <th>payFreq__MONTHLY_WEEKDAY</th>\n",
       "      <td>0.250046</td>\n",
       "    </tr>\n",
       "    <tr>\n",
       "      <th>payFreq__MONTHLY</th>\n",
       "      <td>0.358785</td>\n",
       "    </tr>\n",
       "    <tr>\n",
       "      <th>negbalancerate</th>\n",
       "      <td>0.568864</td>\n",
       "    </tr>\n",
       "    <tr>\n",
       "      <th>payFreq__IRREGULAR</th>\n",
       "      <td>0.750641</td>\n",
       "    </tr>\n",
       "    <tr>\n",
       "      <th>noactivityrate</th>\n",
       "      <td>0.884387</td>\n",
       "    </tr>\n",
       "    <tr>\n",
       "      <th>payFreq__Unknown</th>\n",
       "      <td>2.331550</td>\n",
       "    </tr>\n",
       "  </tbody>\n",
       "</table>\n",
       "</div>"
      ],
      "text/plain": [
       "                          Coefficients\n",
       "payFreq__WEEKLY              -0.257563\n",
       "brigitloansrepaid            -0.202523\n",
       "monthswithfeesrate           -0.166715\n",
       "recurrentcount               -0.127947\n",
       "payFreq__BIWEEKLY            -0.044779\n",
       "accthistorydays              -0.001870\n",
       "days_negative_balance        -0.001346\n",
       "dayswithbrigit                0.003226\n",
       "daystopayday                  0.005567\n",
       "highestpaymonthage            0.026581\n",
       "dailydebitcountmean           0.056705\n",
       "payFreq__MONTHLY_WEEKDAY      0.250046\n",
       "payFreq__MONTHLY              0.358785\n",
       "negbalancerate                0.568864\n",
       "payFreq__IRREGULAR            0.750641\n",
       "noactivityrate                0.884387\n",
       "payFreq__Unknown              2.331550"
      ]
     },
     "execution_count": 49,
     "metadata": {},
     "output_type": "execute_result"
    }
   ],
   "source": [
    "coefs = pd.DataFrame(logreg_init_1.coef_,columns=X_os_test[new_interesting_columns].columns,index=['Coefficients']).T.sort_values(by='Coefficients')\n",
    "coefs"
   ]
  },
  {
   "cell_type": "code",
   "execution_count": 50,
   "metadata": {},
   "outputs": [
    {
     "data": {
      "image/png": "[encoded data removed]",
      "text/plain": [
       "<Figure size 432x288 with 1 Axes>"
      ]
     },
     "metadata": {
      "needs_background": "light"
     },
     "output_type": "display_data"
    }
   ],
   "source": [
    "fig = plt.figure()\n",
    "ax = fig.add_axes([0,0,1,1])\n",
    "ax = utils.roc_auc_plot(x_test=X_os_test[interesting_columns],y_test=y_os_test['y'],y_pred=y_pred_init_train,model=logreg_init,ax=ax,label='Initial Model ')\n",
    "ax = utils.roc_auc_plot(x_test=X_os_test[new_interesting_columns],y_test=y_os_test['y'],y_pred=y_pred_init1_train,model=logreg_init_1,ax=ax,label='Initial Model w/ New Features ')\n",
    "ax.set_title('ROC - Initial Model');"
   ]
  },
  {
   "cell_type": "markdown",
   "metadata": {},
   "source": [
    "## There was no difference in the training model. let's try every feature and see the results"
   ]
  },
  {
   "cell_type": "code",
   "execution_count": 51,
   "metadata": {},
   "outputs": [
    {
     "name": "stdout",
     "output_type": "stream",
     "text": [
      "Optimization terminated successfully.\n",
      "         Current function value: 0.632047\n",
      "         Iterations 8\n",
      "                             Results: Logit\n",
      "=========================================================================\n",
      "Model:                 Logit              Pseudo R-squared:   0.088      \n",
      "Dependent Variable:    y                  AIC:                432614.9546\n",
      "Date:                  2019-06-30 07:47   BIC:                433506.6123\n",
      "No. Observations:      342102             Log-Likelihood:     -2.1622e+05\n",
      "Df Model:              82                 LL-Null:            -2.3713e+05\n",
      "Df Residuals:          342019             LLR p-value:        0.0000     \n",
      "Converged:             1.0000             Scale:              1.0000     \n",
      "No. Iterations:        8.0000                                            \n",
      "-------------------------------------------------------------------------\n",
      "                          Coef.  Std.Err.    z     P>|z|   [0.025  0.975]\n",
      "-------------------------------------------------------------------------\n",
      "amount                    0.0018   0.0001  12.3449 0.0000  0.0015  0.0021\n",
      "negbalancerate            0.4319   0.0631   6.8431 0.0000  0.3082  0.5555\n",
      "brigitloansrepaid        -0.2055   0.0021 -96.7060 0.0000 -0.2096 -0.2013\n",
      "accthistorydays          -0.0023   0.0002 -13.7921 0.0000 -0.0026 -0.0020\n",
      "noactivityrate            0.5335   0.0551   9.6859 0.0000  0.4255  0.6414\n",
      "recurringrate            -1.1963   0.0749 -15.9808 0.0000 -1.3430 -1.0496\n",
      "debitcountz              -0.5508   0.0241 -22.8744 0.0000 -0.5980 -0.5036\n",
      "debitamountz              0.6359   0.0303  21.0053 0.0000  0.5766  0.6952\n",
      "dayswithbrigit            0.0032   0.0001  38.3868 0.0000  0.0030  0.0034\n",
      "balance                  -0.0001   0.0000 -14.9475 0.0000 -0.0001 -0.0001\n",
      "dailydebitcountmean       0.0010   0.0098   0.0972 0.9225 -0.0183  0.0202\n",
      "credittodebitratiomean   -0.0001   0.0001  -1.3693 0.1709 -0.0002  0.0000\n",
      "highestpaydepositvoladj  -0.0000   0.0000  -1.7176 0.0859 -0.0000  0.0000\n",
      "dailyincomemean           0.0018   0.0002  11.0313 0.0000  0.0014  0.0021\n",
      "recurrentcount           -0.1000   0.0025 -40.1654 0.0000 -0.1049 -0.0951\n",
      "negbaleventcount         -0.0033   0.0010  -3.4524 0.0006 -0.0051 -0.0014\n",
      "dailydebitcountsd         0.0353   0.0074   4.7676 0.0000  0.0208  0.0499\n",
      "daystopayday              0.0017   0.0010   1.7631 0.0779 -0.0002  0.0036\n",
      "monthswithfeesrate       -0.1533   0.0132 -11.6143 0.0000 -0.1792 -0.1275\n",
      "highestpaymonthage        0.0229   0.0035   6.4473 0.0000  0.0159  0.0298\n",
      "balancemeanCombined      -0.0000   0.0000  -3.2005 0.0014 -0.0000 -0.0000\n",
      "payFreq__BIWEEKLY        -0.0701   0.0114  -6.1727 0.0000 -0.0924 -0.0478\n",
      "payFreq__IRREGULAR        0.7355   0.0310  23.7435 0.0000  0.6748  0.7962\n",
      "payFreq__MONTHLY          0.3247   0.0246  13.2208 0.0000  0.2766  0.3729\n",
      "payFreq__MONTHLY_WEEKDAY  0.2239   0.0678   3.3030 0.0010  0.0911  0.3568\n",
      "payFreq__Unknown          2.3022   0.0320  71.8595 0.0000  2.2395  2.3650\n",
      "payFreq__WEEKLY          -0.2396   0.0165 -14.5165 0.0000 -0.2720 -0.2073\n",
      "signUpSource__ANDROID     0.6871   0.1081   6.3570 0.0000  0.4753  0.8990\n",
      "signUpSource__IOS         0.5805   0.1080   5.3743 0.0000  0.3688  0.7922\n",
      "signUpSource__MOBILE      0.5611   0.1115   5.0302 0.0000  0.3425  0.7797\n",
      "signUpSource__WEB         0.7003   0.1283   5.4573 0.0000  0.4488  0.9518\n",
      "signUpState__AK          -0.1241   0.1547  -0.8021 0.4225 -0.4272  0.1791\n",
      "signUpState__AL          -0.1489   0.1131  -1.3171 0.1878 -0.3705  0.0727\n",
      "signUpState__AR          -0.4164   0.1263  -3.2967 0.0010 -0.6640 -0.1689\n",
      "signUpState__AZ          -0.5140   0.1076  -4.7771 0.0000 -0.7248 -0.3031\n",
      "signUpState__CA          -0.3872   0.1063  -3.6416 0.0003 -0.5955 -0.1788\n",
      "signUpState__CO          -0.5578   0.1129  -4.9428 0.0000 -0.7790 -0.3366\n",
      "signUpState__CT          -0.5858   0.1196  -4.8965 0.0000 -0.8203 -0.3513\n",
      "signUpState__DC          -0.0971   0.1270  -0.7641 0.4448 -0.3460  0.1519\n",
      "signUpState__DE          -0.1630   0.1377  -1.1840 0.2364 -0.4329  0.1068\n",
      "signUpState__FL          -0.3093   0.1071  -2.8882 0.0039 -0.5192 -0.0994\n",
      "signUpState__GA          -0.2924   0.1077  -2.7160 0.0066 -0.5034 -0.0814\n",
      "signUpState__HI          -0.5257   0.1216  -4.3221 0.0000 -0.7641 -0.2873\n",
      "signUpState__IA          -0.4899   0.1348  -3.6340 0.0003 -0.7542 -0.2257\n",
      "signUpState__ID          -0.3411   0.1392  -2.4500 0.0143 -0.6140 -0.0682\n",
      "signUpState__IL          -0.3367   0.1072  -3.1420 0.0017 -0.5467 -0.1267\n",
      "signUpState__IN          -0.4400   0.1122  -3.9228 0.0001 -0.6599 -0.2202\n",
      "signUpState__KS          -0.1912   0.1267  -1.5082 0.1315 -0.4396  0.0573\n",
      "signUpState__KY          -0.1876   0.1145  -1.6385 0.1013 -0.4119  0.0368\n",
      "signUpState__LA          -0.2597   0.1152  -2.2539 0.0242 -0.4856 -0.0339\n",
      "signUpState__MA          -0.4956   0.1142  -4.3387 0.0000 -0.7195 -0.2717\n",
      "signUpState__MD          -0.3065   0.1100  -2.7875 0.0053 -0.5220 -0.0910\n",
      "signUpState__ME          -0.5099   0.1660  -3.0723 0.0021 -0.8353 -0.1846\n",
      "signUpState__MI          -0.1816   0.1114  -1.6294 0.1032 -0.3999  0.0368\n",
      "signUpState__MN          -0.3651   0.1162  -3.1424 0.0017 -0.5929 -0.1374\n",
      "signUpState__MO          -0.0367   0.1146  -0.3204 0.7487 -0.2614  0.1879\n",
      "signUpState__MS          -0.2336   0.1253  -1.8644 0.0623 -0.4791  0.0120\n",
      "signUpState__MT          -0.6306   0.1812  -3.4796 0.0005 -0.9858 -0.2754\n",
      "signUpState__NC          -0.1639   0.1078  -1.5199 0.1285 -0.3753  0.0475\n",
      "signUpState__ND          -0.3719   0.1798  -2.0679 0.0387 -0.7243 -0.0194\n",
      "signUpState__NE          -0.3251   0.1540  -2.1111 0.0348 -0.6269 -0.0233\n",
      "signUpState__NH          -0.6192   0.1415  -4.3764 0.0000 -0.8965 -0.3419\n",
      "signUpState__NJ          -0.4739   0.1106  -4.2861 0.0000 -0.6906 -0.2572\n",
      "signUpState__NM          -0.4537   0.1309  -3.4650 0.0005 -0.7103 -0.1970\n",
      "signUpState__NV          -0.3476   0.1136  -3.0589 0.0022 -0.5703 -0.1249\n",
      "signUpState__NY          -0.5936   0.1083  -5.4825 0.0000 -0.8058 -0.3814\n",
      "signUpState__OH          -0.3464   0.1072  -3.2300 0.0012 -0.5565 -0.1362\n",
      "signUpState__OK          -0.2095   0.1224  -1.7111 0.0871 -0.4494  0.0305\n",
      "signUpState__OR          -0.4516   0.1178  -3.8318 0.0001 -0.6825 -0.2206\n",
      "signUpState__PA          -0.4173   0.1093  -3.8175 0.0001 -0.6316 -0.2031\n",
      "signUpState__RI          -0.5078   0.1442  -3.5218 0.0004 -0.7904 -0.2252\n",
      "signUpState__SC          -0.0520   0.1113  -0.4670 0.6405 -0.2701  0.1662\n",
      "signUpState__SD          -0.4590   0.1713  -2.6787 0.0074 -0.7948 -0.1232\n",
      "signUpState__TN          -0.3727   0.1125  -3.3138 0.0009 -0.5932 -0.1523\n",
      "signUpState__TX          -0.2977   0.1063  -2.7998 0.0051 -0.5061 -0.0893\n",
      "signUpState__UT          -0.7513   0.1338  -5.6158 0.0000 -1.0134 -0.4891\n",
      "signUpState__VA          -0.2006   0.1096  -1.8306 0.0672 -0.4153  0.0142\n",
      "signUpState__VT          -0.3979   0.2241  -1.7756 0.0758 -0.8370  0.0413\n",
      "signUpState__WA          -0.4847   0.1121  -4.3250 0.0000 -0.7044 -0.2651\n",
      "signUpState__WI          -0.5134   0.1205  -4.2586 0.0000 -0.7496 -0.2771\n",
      "signUpState__WV          -0.6884   0.1392  -4.9444 0.0000 -0.9613 -0.4155\n",
      "signUpState__WY          -0.4529   0.2179  -2.0784 0.0377 -0.8800 -0.0258\n",
      "days_negative_balance    -0.0005   0.0004  -1.3598 0.1739 -0.0012  0.0002\n",
      "=========================================================================\n",
      "\n"
     ]
    }
   ],
   "source": [
    "drop_cols = ['signUpState__Unknown','payFreq__SEMIMONTHLY','signUpSource__Unknown'] ## Drop one of each dummy var to reduce collinearity\n",
    "logit_model=sm.Logit(y_os_train,X_os_train.drop(drop_cols,axis=1)) \n",
    "result=logit_model.fit()\n",
    "print(result.summary2())"
   ]
  },
  {
   "cell_type": "code",
   "execution_count": 52,
   "metadata": {},
   "outputs": [
    {
     "name": "stdout",
     "output_type": "stream",
     "text": [
      "Optimization terminated successfully.\n",
      "         Current function value: 0.632061\n",
      "         Iterations 6\n",
      "                             Results: Logit\n",
      "=========================================================================\n",
      "Model:                 Logit              Pseudo R-squared:   0.088      \n",
      "Dependent Variable:    y                  AIC:                432606.7477\n",
      "Date:                  2019-06-30 07:47   BIC:                433401.7197\n",
      "No. Observations:      342102             Log-Likelihood:     -2.1623e+05\n",
      "Df Model:              73                 LL-Null:            -2.3713e+05\n",
      "Df Residuals:          342028             LLR p-value:        0.0000     \n",
      "Converged:             1.0000             Scale:              1.0000     \n",
      "No. Iterations:        6.0000                                            \n",
      "-------------------------------------------------------------------------\n",
      "                          Coef.  Std.Err.    z     P>|z|   [0.025  0.975]\n",
      "-------------------------------------------------------------------------\n",
      "amount                    0.0019   0.0001  14.0055 0.0000  0.0016  0.0022\n",
      "negbalancerate            0.3509   0.0193  18.1859 0.0000  0.3131  0.3888\n",
      "brigitloansrepaid        -0.2059   0.0021 -97.3723 0.0000 -0.2100 -0.2017\n",
      "accthistorydays          -0.0024   0.0001 -16.7808 0.0000 -0.0027 -0.0021\n",
      "noactivityrate            0.5400   0.0407  13.2574 0.0000  0.4602  0.6199\n",
      "recurringrate            -1.1908   0.0747 -15.9333 0.0000 -1.3372 -1.0443\n",
      "debitcountz              -0.5500   0.0241 -22.8433 0.0000 -0.5971 -0.5028\n",
      "debitamountz              0.6348   0.0303  20.9755 0.0000  0.5755  0.6941\n",
      "dayswithbrigit            0.0032   0.0001  38.4957 0.0000  0.0030  0.0034\n",
      "balance                  -0.0001   0.0000 -15.0649 0.0000 -0.0001 -0.0001\n",
      "dailyincomemean           0.0016   0.0001  12.5784 0.0000  0.0013  0.0018\n",
      "recurrentcount           -0.0996   0.0025 -40.3994 0.0000 -0.1045 -0.0948\n",
      "negbaleventcount         -0.0035   0.0009  -3.7292 0.0002 -0.0053 -0.0017\n",
      "dailydebitcountsd         0.0362   0.0030  11.9881 0.0000  0.0302  0.0421\n",
      "daystopayday              0.0021   0.0010   2.1514 0.0314  0.0002  0.0039\n",
      "monthswithfeesrate       -0.1547   0.0132 -11.7352 0.0000 -0.1805 -0.1289\n",
      "highestpaymonthage        0.0231   0.0035   6.5284 0.0000  0.0162  0.0301\n",
      "balancemeanCombined      -0.0000   0.0000  -3.0045 0.0027 -0.0000 -0.0000\n",
      "payFreq__BIWEEKLY        -0.0692   0.0111  -6.2474 0.0000 -0.0909 -0.0475\n",
      "payFreq__IRREGULAR        0.7364   0.0309  23.8220 0.0000  0.6758  0.7970\n",
      "payFreq__MONTHLY          0.3393   0.0230  14.7213 0.0000  0.2941  0.3845\n",
      "payFreq__MONTHLY_WEEKDAY  0.2309   0.0677   3.4114 0.0006  0.0982  0.3635\n",
      "payFreq__Unknown          2.3019   0.0319  72.1987 0.0000  2.2394  2.3644\n",
      "payFreq__WEEKLY          -0.2439   0.0152 -16.0020 0.0000 -0.2738 -0.2140\n",
      "signUpSource__ANDROID     0.6334   0.0303  20.9299 0.0000  0.5741  0.6928\n",
      "signUpSource__IOS         0.5266   0.0298  17.6813 0.0000  0.4683  0.5850\n",
      "signUpSource__MOBILE      0.5082   0.0495  10.2591 0.0000  0.4111  0.6053\n",
      "signUpSource__WEB         0.6465   0.0753   8.5839 0.0000  0.4989  0.7941\n",
      "signUpState__AL          -0.0882   0.0455  -1.9381 0.0526 -0.1774  0.0010\n",
      "signUpState__AR          -0.3563   0.0725  -4.9159 0.0000 -0.4984 -0.2142\n",
      "signUpState__AZ          -0.4544   0.0296 -15.3564 0.0000 -0.5124 -0.3964\n",
      "signUpState__CA          -0.3270   0.0251 -13.0279 0.0000 -0.3762 -0.2778\n",
      "signUpState__CO          -0.4977   0.0450 -11.0598 0.0000 -0.5859 -0.4095\n",
      "signUpState__CT          -0.5256   0.0600  -8.7545 0.0000 -0.6433 -0.4079\n",
      "signUpState__FL          -0.2491   0.0277  -9.0069 0.0000 -0.3033 -0.1949\n",
      "signUpState__GA          -0.2317   0.0297  -7.8055 0.0000 -0.2898 -0.1735\n",
      "signUpState__HI          -0.4659   0.0640  -7.2783 0.0000 -0.5914 -0.3405\n",
      "signUpState__IA          -0.4286   0.0863  -4.9641 0.0000 -0.5978 -0.2594\n",
      "signUpState__ID          -0.2808   0.0932  -3.0131 0.0026 -0.4634 -0.0981\n",
      "signUpState__IL          -0.2766   0.0279  -9.9026 0.0000 -0.3314 -0.2219\n",
      "signUpState__IN          -0.3801   0.0433  -8.7788 0.0000 -0.4649 -0.2952\n",
      "signUpState__KS          -0.1304   0.0732  -1.7827 0.0746 -0.2738  0.0130\n",
      "signUpState__KY          -0.1270   0.0489  -2.5958 0.0094 -0.2229 -0.0311\n",
      "signUpState__LA          -0.1997   0.0508  -3.9350 0.0001 -0.2992 -0.1002\n",
      "signUpState__MA          -0.4351   0.0483  -9.0145 0.0000 -0.5297 -0.3405\n",
      "signUpState__MD          -0.2446   0.0372  -6.5790 0.0000 -0.3175 -0.1718\n",
      "signUpState__ME          -0.4485   0.1298  -3.4559 0.0005 -0.7029 -0.1941\n",
      "signUpState__MI          -0.1207   0.0412  -2.9328 0.0034 -0.2014 -0.0400\n",
      "signUpState__MN          -0.3045   0.0528  -5.7671 0.0000 -0.4080 -0.2010\n",
      "signUpState__MS          -0.1725   0.0706  -2.4437 0.0145 -0.3108 -0.0341\n",
      "signUpState__MT          -0.5715   0.1488  -3.8404 0.0001 -0.8631 -0.2798\n",
      "signUpState__NC          -0.1031   0.0303  -3.4005 0.0007 -0.1626 -0.0437\n",
      "signUpState__ND          -0.3126   0.1471  -2.1248 0.0336 -0.6009 -0.0242\n",
      "signUpState__NE          -0.2654   0.1141  -2.3266 0.0200 -0.4890 -0.0418\n",
      "signUpState__NH          -0.5589   0.0965  -5.7919 0.0000 -0.7480 -0.3698\n",
      "signUpState__NJ          -0.4129   0.0389 -10.6113 0.0000 -0.4892 -0.3367\n",
      "signUpState__NM          -0.3938   0.0802  -4.9092 0.0000 -0.5511 -0.2366\n",
      "signUpState__NV          -0.2873   0.0470  -6.1169 0.0000 -0.3794 -0.1953\n",
      "signUpState__NY          -0.5319   0.0318 -16.7448 0.0000 -0.5941 -0.4696\n",
      "signUpState__OH          -0.2869   0.0283 -10.1483 0.0000 -0.3423 -0.2315\n",
      "signUpState__OK          -0.1498   0.0653  -2.2928 0.0219 -0.2778 -0.0217\n",
      "signUpState__OR          -0.3911   0.0564  -6.9312 0.0000 -0.5017 -0.2805\n",
      "signUpState__PA          -0.3569   0.0352 -10.1485 0.0000 -0.4258 -0.2880\n",
      "signUpState__RI          -0.4458   0.1003  -4.4447 0.0000 -0.6424 -0.2492\n",
      "signUpState__SD          -0.3999   0.1366  -2.9283 0.0034 -0.6676 -0.1323\n",
      "signUpState__TN          -0.3118   0.0440  -7.0811 0.0000 -0.3982 -0.2255\n",
      "signUpState__TX          -0.2380   0.0249  -9.5469 0.0000 -0.2868 -0.1891\n",
      "signUpState__UT          -0.6914   0.0848  -8.1510 0.0000 -0.8577 -0.5252\n",
      "signUpState__VA          -0.1400   0.0360  -3.8862 0.0001 -0.2106 -0.0694\n",
      "signUpState__VT          -0.3367   0.1987  -1.6948 0.0901 -0.7262  0.0527\n",
      "signUpState__WA          -0.4240   0.0430  -9.8618 0.0000 -0.5083 -0.3397\n",
      "signUpState__WI          -0.4528   0.0618  -7.3218 0.0000 -0.5740 -0.3316\n",
      "signUpState__WV          -0.6278   0.0932  -6.7384 0.0000 -0.8104 -0.4452\n",
      "signUpState__WY          -0.3948   0.1918  -2.0583 0.0396 -0.7708 -0.0189\n",
      "=========================================================================\n",
      "\n"
     ]
    }
   ],
   "source": [
    "### Drop columns with high p values\n",
    "drop_cols.extend(['dailydebitcountmean',\n",
    "                  'signUpState__AK',\n",
    "                  'signUpState__DC',\n",
    "                  'signUpState__MO',\n",
    "                  'credittodebitratiomean',\n",
    "                  'signUpState__DE',\n",
    "                  'signUpState__SC',\n",
    "                  'days_negative_balance',\n",
    "                  'highestpaydepositvoladj']) ## Drop variables with > .1 p score\n",
    "logit_model=sm.Logit(y_os_train,X_os_train.drop(drop_cols,axis=1)) \n",
    "result=logit_model.fit()\n",
    "print(result.summary2())"
   ]
  },
  {
   "cell_type": "markdown",
   "metadata": {},
   "source": [
    "### GS at the model with all features"
   ]
  },
  {
   "cell_type": "code",
   "execution_count": 53,
   "metadata": {},
   "outputs": [
    {
     "name": "stdout",
     "output_type": "stream",
     "text": [
      "Fitting 5 folds for each of 10 candidates, totalling 50 fits\n"
     ]
    },
    {
     "name": "stderr",
     "output_type": "stream",
     "text": [
      "[Parallel(n_jobs=8)]: Using backend LokyBackend with 8 concurrent workers.\n",
      "[Parallel(n_jobs=8)]: Done  34 tasks      | elapsed:  5.8min\n",
      "[Parallel(n_jobs=8)]: Done  50 out of  50 | elapsed:  8.0min finished\n"
     ]
    },
    {
     "data": {
      "text/plain": [
       "GridSearchCV(cv=5, error_score='raise-deprecating',\n",
       "             estimator=LogisticRegression(C=1.0, class_weight=None, dual=False,\n",
       "                                          fit_intercept=True,\n",
       "                                          intercept_scaling=1, l1_ratio=None,\n",
       "                                          max_iter=500, multi_class='warn',\n",
       "                                          n_jobs=None, penalty='l2',\n",
       "                                          random_state=None, solver='liblinear',\n",
       "                                          tol=0.0001, verbose=0,\n",
       "                                          warm_start=False),\n",
       "             iid='warn', n_jobs=8,\n",
       "             param_grid={'C': array([0.1, 0.2, 0.3, 0.4, 0.5, 0.6, 0.7, 0.8, 0.9, 1. ])},\n",
       "             pre_dispatch='2*n_jobs', refit=True, return_train_score=False,\n",
       "             scoring=None, verbose=True)"
      ]
     },
     "execution_count": 53,
     "metadata": {},
     "output_type": "execute_result"
    }
   ],
   "source": [
    "logreg_init_2 = LogisticRegression(solver='liblinear',max_iter=500)\n",
    "\n",
    "## \n",
    "params = {'C':np.linspace(.1,1,10)}\n",
    "gs_init_2 = GridSearchCV(logreg_init_2,params,cv=5,verbose=True,n_jobs=8)\n",
    "gs_init_2.fit(X_os_train.drop(drop_cols,axis=1),y_os_train['y'].ravel())"
   ]
  },
  {
   "cell_type": "code",
   "execution_count": 54,
   "metadata": {},
   "outputs": [
    {
     "data": {
      "text/plain": [
       "LogisticRegression(C=0.8, class_weight=None, dual=False, fit_intercept=True,\n",
       "                   intercept_scaling=1, l1_ratio=None, max_iter=500,\n",
       "                   multi_class='warn', n_jobs=None, penalty='l2',\n",
       "                   random_state=None, solver='liblinear', tol=0.0001, verbose=0,\n",
       "                   warm_start=False)"
      ]
     },
     "execution_count": 54,
     "metadata": {},
     "output_type": "execute_result"
    }
   ],
   "source": [
    "## Fit with best C value\n",
    "logreg_init_2 = LogisticRegression(C=gs_init_2.best_estimator_.C,solver='liblinear',max_iter=500)\n",
    "logreg_init_2.fit(X_os_train.drop(drop_cols,axis=1),y_os_train['y'])"
   ]
  },
  {
   "cell_type": "code",
   "execution_count": 55,
   "metadata": {},
   "outputs": [
    {
     "name": "stdout",
     "output_type": "stream",
     "text": [
      "Accuracy of logistic regression classifier on test set: 0.64\n"
     ]
    }
   ],
   "source": [
    "y_pred_all_features_train = logreg_init_2.predict(X_os_test.drop(drop_cols,axis=1))\n",
    "print('Accuracy of logistic regression classifier on test set: {:.2f}'.format(logreg_init_2.score(X_os_test.drop(drop_cols,axis=1), y_os_test['y'])))"
   ]
  },
  {
   "cell_type": "markdown",
   "metadata": {},
   "source": [
    "### Classification Report"
   ]
  },
  {
   "cell_type": "code",
   "execution_count": 56,
   "metadata": {},
   "outputs": [
    {
     "name": "stdout",
     "output_type": "stream",
     "text": [
      "              precision    recall  f1-score   support\n",
      "\n",
      "           0       0.64      0.62      0.63     42763\n",
      "           1       0.63      0.65      0.64     42763\n",
      "\n",
      "    accuracy                           0.64     85526\n",
      "   macro avg       0.64      0.64      0.64     85526\n",
      "weighted avg       0.64      0.64      0.64     85526\n",
      "\n"
     ]
    }
   ],
   "source": [
    "print(classification_report(y_os_test['y'], y_pred_all_features_train))"
   ]
  },
  {
   "cell_type": "markdown",
   "metadata": {},
   "source": [
    "### Coefs"
   ]
  },
  {
   "cell_type": "code",
   "execution_count": 57,
   "metadata": {},
   "outputs": [
    {
     "data": {
      "text/html": [
       "<div>\n",
       "<style scoped>\n",
       "    .dataframe tbody tr th:only-of-type {\n",
       "        vertical-align: middle;\n",
       "    }\n",
       "\n",
       "    .dataframe tbody tr th {\n",
       "        vertical-align: top;\n",
       "    }\n",
       "\n",
       "    .dataframe thead th {\n",
       "        text-align: right;\n",
       "    }\n",
       "</style>\n",
       "<table border=\"1\" class=\"dataframe\">\n",
       "  <thead>\n",
       "    <tr style=\"text-align: right;\">\n",
       "      <th></th>\n",
       "      <th>Coefficients</th>\n",
       "    </tr>\n",
       "  </thead>\n",
       "  <tbody>\n",
       "    <tr>\n",
       "      <th>recurringrate</th>\n",
       "      <td>-0.852516</td>\n",
       "    </tr>\n",
       "    <tr>\n",
       "      <th>debitcountz</th>\n",
       "      <td>-0.582409</td>\n",
       "    </tr>\n",
       "    <tr>\n",
       "      <th>signUpState__NY</th>\n",
       "      <td>-0.260494</td>\n",
       "    </tr>\n",
       "    <tr>\n",
       "      <th>signUpState__UT</th>\n",
       "      <td>-0.253572</td>\n",
       "    </tr>\n",
       "    <tr>\n",
       "      <th>signUpState__CO</th>\n",
       "      <td>-0.236680</td>\n",
       "    </tr>\n",
       "    <tr>\n",
       "      <th>signUpState__CT</th>\n",
       "      <td>-0.233068</td>\n",
       "    </tr>\n",
       "    <tr>\n",
       "      <th>payFreq__WEEKLY</th>\n",
       "      <td>-0.221451</td>\n",
       "    </tr>\n",
       "    <tr>\n",
       "      <th>brigitloansrepaid</th>\n",
       "      <td>-0.205946</td>\n",
       "    </tr>\n",
       "    <tr>\n",
       "      <th>signUpState__WV</th>\n",
       "      <td>-0.182777</td>\n",
       "    </tr>\n",
       "    <tr>\n",
       "      <th>signUpState__AZ</th>\n",
       "      <td>-0.175556</td>\n",
       "    </tr>\n",
       "    <tr>\n",
       "      <th>signUpState__MA</th>\n",
       "      <td>-0.170649</td>\n",
       "    </tr>\n",
       "    <tr>\n",
       "      <th>signUpState__HI</th>\n",
       "      <td>-0.168906</td>\n",
       "    </tr>\n",
       "    <tr>\n",
       "      <th>signUpState__WI</th>\n",
       "      <td>-0.156683</td>\n",
       "    </tr>\n",
       "    <tr>\n",
       "      <th>signUpState__WA</th>\n",
       "      <td>-0.150929</td>\n",
       "    </tr>\n",
       "    <tr>\n",
       "      <th>monthswithfeesrate</th>\n",
       "      <td>-0.148940</td>\n",
       "    </tr>\n",
       "    <tr>\n",
       "      <th>signUpState__NJ</th>\n",
       "      <td>-0.146494</td>\n",
       "    </tr>\n",
       "    <tr>\n",
       "      <th>signUpState__NH</th>\n",
       "      <td>-0.138087</td>\n",
       "    </tr>\n",
       "    <tr>\n",
       "      <th>signUpState__IN</th>\n",
       "      <td>-0.121377</td>\n",
       "    </tr>\n",
       "    <tr>\n",
       "      <th>signUpState__OR</th>\n",
       "      <td>-0.116011</td>\n",
       "    </tr>\n",
       "    <tr>\n",
       "      <th>recurrentcount</th>\n",
       "      <td>-0.105998</td>\n",
       "    </tr>\n",
       "    <tr>\n",
       "      <th>signUpState__PA</th>\n",
       "      <td>-0.091832</td>\n",
       "    </tr>\n",
       "    <tr>\n",
       "      <th>signUpState__IA</th>\n",
       "      <td>-0.086056</td>\n",
       "    </tr>\n",
       "    <tr>\n",
       "      <th>signUpState__CA</th>\n",
       "      <td>-0.080198</td>\n",
       "    </tr>\n",
       "    <tr>\n",
       "      <th>signUpState__RI</th>\n",
       "      <td>-0.075233</td>\n",
       "    </tr>\n",
       "    <tr>\n",
       "      <th>signUpState__NM</th>\n",
       "      <td>-0.072042</td>\n",
       "    </tr>\n",
       "    <tr>\n",
       "      <th>signUpState__MT</th>\n",
       "      <td>-0.066086</td>\n",
       "    </tr>\n",
       "    <tr>\n",
       "      <th>signUpState__OH</th>\n",
       "      <td>-0.064946</td>\n",
       "    </tr>\n",
       "    <tr>\n",
       "      <th>payFreq__BIWEEKLY</th>\n",
       "      <td>-0.057109</td>\n",
       "    </tr>\n",
       "    <tr>\n",
       "      <th>signUpState__AR</th>\n",
       "      <td>-0.051937</td>\n",
       "    </tr>\n",
       "    <tr>\n",
       "      <th>signUpState__ME</th>\n",
       "      <td>-0.045367</td>\n",
       "    </tr>\n",
       "    <tr>\n",
       "      <th>...</th>\n",
       "      <td>...</td>\n",
       "    </tr>\n",
       "    <tr>\n",
       "      <th>amount</th>\n",
       "      <td>0.002065</td>\n",
       "    </tr>\n",
       "    <tr>\n",
       "      <th>daystopayday</th>\n",
       "      <td>0.003018</td>\n",
       "    </tr>\n",
       "    <tr>\n",
       "      <th>dayswithbrigit</th>\n",
       "      <td>0.003279</td>\n",
       "    </tr>\n",
       "    <tr>\n",
       "      <th>signUpState__NE</th>\n",
       "      <td>0.009155</td>\n",
       "    </tr>\n",
       "    <tr>\n",
       "      <th>signUpState__MD</th>\n",
       "      <td>0.014289</td>\n",
       "    </tr>\n",
       "    <tr>\n",
       "      <th>signUpState__TX</th>\n",
       "      <td>0.019125</td>\n",
       "    </tr>\n",
       "    <tr>\n",
       "      <th>highestpaymonthage</th>\n",
       "      <td>0.021035</td>\n",
       "    </tr>\n",
       "    <tr>\n",
       "      <th>signUpState__FL</th>\n",
       "      <td>0.028731</td>\n",
       "    </tr>\n",
       "    <tr>\n",
       "      <th>dailydebitcountsd</th>\n",
       "      <td>0.039119</td>\n",
       "    </tr>\n",
       "    <tr>\n",
       "      <th>signUpState__GA</th>\n",
       "      <td>0.065035</td>\n",
       "    </tr>\n",
       "    <tr>\n",
       "      <th>signUpState__LA</th>\n",
       "      <td>0.084668</td>\n",
       "    </tr>\n",
       "    <tr>\n",
       "      <th>signUpState__MS</th>\n",
       "      <td>0.095131</td>\n",
       "    </tr>\n",
       "    <tr>\n",
       "      <th>signUpState__VA</th>\n",
       "      <td>0.114603</td>\n",
       "    </tr>\n",
       "    <tr>\n",
       "      <th>signUpState__OK</th>\n",
       "      <td>0.121053</td>\n",
       "    </tr>\n",
       "    <tr>\n",
       "      <th>signUpState__KS</th>\n",
       "      <td>0.124058</td>\n",
       "    </tr>\n",
       "    <tr>\n",
       "      <th>signUpState__MI</th>\n",
       "      <td>0.143507</td>\n",
       "    </tr>\n",
       "    <tr>\n",
       "      <th>signUpState__KY</th>\n",
       "      <td>0.162969</td>\n",
       "    </tr>\n",
       "    <tr>\n",
       "      <th>payFreq__MONTHLY_WEEKDAY</th>\n",
       "      <td>0.169920</td>\n",
       "    </tr>\n",
       "    <tr>\n",
       "      <th>signUpState__AL</th>\n",
       "      <td>0.196811</td>\n",
       "    </tr>\n",
       "    <tr>\n",
       "      <th>signUpSource__MOBILE</th>\n",
       "      <td>0.198451</td>\n",
       "    </tr>\n",
       "    <tr>\n",
       "      <th>signUpState__NC</th>\n",
       "      <td>0.202308</td>\n",
       "    </tr>\n",
       "    <tr>\n",
       "      <th>signUpSource__WEB</th>\n",
       "      <td>0.231964</td>\n",
       "    </tr>\n",
       "    <tr>\n",
       "      <th>signUpSource__IOS</th>\n",
       "      <td>0.308528</td>\n",
       "    </tr>\n",
       "    <tr>\n",
       "      <th>payFreq__MONTHLY</th>\n",
       "      <td>0.309909</td>\n",
       "    </tr>\n",
       "    <tr>\n",
       "      <th>negbalancerate</th>\n",
       "      <td>0.342410</td>\n",
       "    </tr>\n",
       "    <tr>\n",
       "      <th>signUpSource__ANDROID</th>\n",
       "      <td>0.418821</td>\n",
       "    </tr>\n",
       "    <tr>\n",
       "      <th>noactivityrate</th>\n",
       "      <td>0.561581</td>\n",
       "    </tr>\n",
       "    <tr>\n",
       "      <th>debitamountz</th>\n",
       "      <td>0.636603</td>\n",
       "    </tr>\n",
       "    <tr>\n",
       "      <th>payFreq__IRREGULAR</th>\n",
       "      <td>0.783310</td>\n",
       "    </tr>\n",
       "    <tr>\n",
       "      <th>payFreq__Unknown</th>\n",
       "      <td>2.293267</td>\n",
       "    </tr>\n",
       "  </tbody>\n",
       "</table>\n",
       "<p>74 rows × 1 columns</p>\n",
       "</div>"
      ],
      "text/plain": [
       "                          Coefficients\n",
       "recurringrate                -0.852516\n",
       "debitcountz                  -0.582409\n",
       "signUpState__NY              -0.260494\n",
       "signUpState__UT              -0.253572\n",
       "signUpState__CO              -0.236680\n",
       "signUpState__CT              -0.233068\n",
       "payFreq__WEEKLY              -0.221451\n",
       "brigitloansrepaid            -0.205946\n",
       "signUpState__WV              -0.182777\n",
       "signUpState__AZ              -0.175556\n",
       "signUpState__MA              -0.170649\n",
       "signUpState__HI              -0.168906\n",
       "signUpState__WI              -0.156683\n",
       "signUpState__WA              -0.150929\n",
       "monthswithfeesrate           -0.148940\n",
       "signUpState__NJ              -0.146494\n",
       "signUpState__NH              -0.138087\n",
       "signUpState__IN              -0.121377\n",
       "signUpState__OR              -0.116011\n",
       "recurrentcount               -0.105998\n",
       "signUpState__PA              -0.091832\n",
       "signUpState__IA              -0.086056\n",
       "signUpState__CA              -0.080198\n",
       "signUpState__RI              -0.075233\n",
       "signUpState__NM              -0.072042\n",
       "signUpState__MT              -0.066086\n",
       "signUpState__OH              -0.064946\n",
       "payFreq__BIWEEKLY            -0.057109\n",
       "signUpState__AR              -0.051937\n",
       "signUpState__ME              -0.045367\n",
       "...                                ...\n",
       "amount                        0.002065\n",
       "daystopayday                  0.003018\n",
       "dayswithbrigit                0.003279\n",
       "signUpState__NE               0.009155\n",
       "signUpState__MD               0.014289\n",
       "signUpState__TX               0.019125\n",
       "highestpaymonthage            0.021035\n",
       "signUpState__FL               0.028731\n",
       "dailydebitcountsd             0.039119\n",
       "signUpState__GA               0.065035\n",
       "signUpState__LA               0.084668\n",
       "signUpState__MS               0.095131\n",
       "signUpState__VA               0.114603\n",
       "signUpState__OK               0.121053\n",
       "signUpState__KS               0.124058\n",
       "signUpState__MI               0.143507\n",
       "signUpState__KY               0.162969\n",
       "payFreq__MONTHLY_WEEKDAY      0.169920\n",
       "signUpState__AL               0.196811\n",
       "signUpSource__MOBILE          0.198451\n",
       "signUpState__NC               0.202308\n",
       "signUpSource__WEB             0.231964\n",
       "signUpSource__IOS             0.308528\n",
       "payFreq__MONTHLY              0.309909\n",
       "negbalancerate                0.342410\n",
       "signUpSource__ANDROID         0.418821\n",
       "noactivityrate                0.561581\n",
       "debitamountz                  0.636603\n",
       "payFreq__IRREGULAR            0.783310\n",
       "payFreq__Unknown              2.293267\n",
       "\n",
       "[74 rows x 1 columns]"
      ]
     },
     "execution_count": 57,
     "metadata": {},
     "output_type": "execute_result"
    }
   ],
   "source": [
    "coefs = pd.DataFrame(logreg_init_2.coef_,columns=X_os_test.drop(drop_cols,axis=1).columns,index=['Coefficients']).T.sort_values(by='Coefficients')\n",
    "coefs"
   ]
  },
  {
   "cell_type": "markdown",
   "metadata": {},
   "source": [
    "### AUC"
   ]
  },
  {
   "cell_type": "code",
   "execution_count": 58,
   "metadata": {},
   "outputs": [
    {
     "data": {
      "image/png": "[encoded data removed]",
      "text/plain": [
       "<Figure size 432x288 with 1 Axes>"
      ]
     },
     "metadata": {
      "needs_background": "light"
     },
     "output_type": "display_data"
    }
   ],
   "source": [
    "fig = plt.figure()\n",
    "ax = fig.add_axes([0,0,1,1])\n",
    "ax = utils.roc_auc_plot(x_test=X_os_test[interesting_columns],y_test=y_os_test['y'],y_pred=y_pred_init_train,model=logreg_init,ax=ax,label='Initial Model ')\n",
    "ax = utils.roc_auc_plot(x_test=X_os_test.drop(drop_cols,axis=1),y_test=y_os_test['y'],y_pred=y_pred_all_features_train,model=logreg_init_2,ax=ax,label='\"Kitchen Sink\" Model ')\n",
    "ax.set_title('ROC - Initial Model');"
   ]
  },
  {
   "cell_type": "code",
   "execution_count": 59,
   "metadata": {},
   "outputs": [
    {
     "name": "stdout",
     "output_type": "stream",
     "text": [
      "Accuracy of logistic regression classifier on test set: 1.00\n"
     ]
    }
   ],
   "source": [
    "y_pred_all_features_test = logreg_init_2.predict(X_test.drop(drop_cols,axis=1))\n",
    "print('Accuracy of logistic regression classifier on test set: {:.2f}'.format(logreg_init_2.score(X_test.drop(drop_cols,axis=1), y_pred_all_features_test)))"
   ]
  },
  {
   "cell_type": "code",
   "execution_count": 60,
   "metadata": {},
   "outputs": [
    {
     "name": "stdout",
     "output_type": "stream",
     "text": [
      "              precision    recall  f1-score   support\n",
      "\n",
      "           0       0.93      0.62      0.74     53454\n",
      "           1       0.18      0.64      0.29      7120\n",
      "\n",
      "    accuracy                           0.62     60574\n",
      "   macro avg       0.56      0.63      0.51     60574\n",
      "weighted avg       0.84      0.62      0.69     60574\n",
      "\n"
     ]
    }
   ],
   "source": [
    "### Precision and AUC vs holdout data\n",
    "print(classification_report(y_test, y_pred_all_features_test))"
   ]
  },
  {
   "cell_type": "code",
   "execution_count": 61,
   "metadata": {},
   "outputs": [
    {
     "data": {
      "image/png": "[encoded data removed]",
      "text/plain": [
       "<Figure size 432x288 with 1 Axes>"
      ]
     },
     "metadata": {
      "needs_background": "light"
     },
     "output_type": "display_data"
    }
   ],
   "source": [
    "fig = plt.figure()\n",
    "ax = fig.add_axes([0,0,1,1])\n",
    "ax = utils.roc_auc_plot(x_test=X_test[interesting_columns],y_test=y_test,y_pred=y_pred_init_test,model=logreg_init,ax=ax,label='Initial Model ')\n",
    "ax = utils.roc_auc_plot(x_test=X_test.drop(drop_cols,axis=1),y_test=y_test,y_pred=y_pred_all_features_test,model=logreg_init_2,ax=ax,label='\"Kitchen Sink\" Model ')\n",
    "ax.set_title('ROC - Initial Model');"
   ]
  },
  {
   "cell_type": "markdown",
   "metadata": {},
   "source": [
    "### No Difference. Next let's try a Random Forest Classifier"
   ]
  },
  {
   "cell_type": "code",
   "execution_count": 62,
   "metadata": {},
   "outputs": [
    {
     "name": "stdout",
     "output_type": "stream",
     "text": [
      "{'n_estimators': [200, 400, 600, 800, 1000, 1200, 1400, 1600, 1800, 2000], 'max_features': ['auto', 'sqrt'], 'max_depth': [10, 20, 30, 40, 50, 60, 70, 80, 90, 100, 110, None], 'min_samples_split': [2, 5, 10], 'min_samples_leaf': [1, 2, 4], 'bootstrap': [True, False]}\n"
     ]
    }
   ],
   "source": [
    "from sklearn.model_selection import RandomizedSearchCV\n",
    "# Number of trees in random forest\n",
    "n_estimators = [int(x) for x in np.linspace(start = 200, stop = 2000, num = 10)]\n",
    "# Number of features to consider at every split\n",
    "max_features = ['auto', 'sqrt']\n",
    "# Maximum number of levels in tree\n",
    "max_depth = [int(x) for x in np.linspace(10, 110, num = 11)]\n",
    "max_depth.append(None)\n",
    "# Minimum number of samples required to split a node\n",
    "min_samples_split = [2, 5, 10]\n",
    "# Minimum number of samples required at each leaf node\n",
    "min_samples_leaf = [1, 2, 4]\n",
    "# Method of selecting samples for training each tree\n",
    "bootstrap = [True, False]\n",
    "# Create the random grid\n",
    "random_grid = {'n_estimators': n_estimators,\n",
    "               'max_features': max_features,\n",
    "               'max_depth': max_depth,\n",
    "               'min_samples_split': min_samples_split,\n",
    "               'min_samples_leaf': min_samples_leaf,\n",
    "               'bootstrap': bootstrap}\n",
    "print(random_grid)"
   ]
  },
  {
   "cell_type": "code",
   "execution_count": 64,
   "metadata": {},
   "outputs": [
    {
     "name": "stdout",
     "output_type": "stream",
     "text": [
      "Fitting 3 folds for each of 100 candidates, totalling 300 fits\n"
     ]
    },
    {
     "name": "stderr",
     "output_type": "stream",
     "text": [
      "[Parallel(n_jobs=9)]: Using backend LokyBackend with 9 concurrent workers.\n",
      "[Parallel(n_jobs=9)]: Done  23 tasks      | elapsed: 95.3min\n",
      "[Parallel(n_jobs=9)]: Done 144 tasks      | elapsed: 377.4min\n",
      "[Parallel(n_jobs=9)]: Done 300 out of 300 | elapsed: 738.3min finished\n",
      "C:\\Users\\richard\\.conda\\envs\\brigit\\lib\\site-packages\\sklearn\\model_selection\\_search.py:714: DataConversionWarning: A column-vector y was passed when a 1d array was expected. Please change the shape of y to (n_samples,), for example using ravel().\n",
      "  self.best_estimator_.fit(X, y, **fit_params)\n"
     ]
    },
    {
     "data": {
      "text/plain": [
       "RandomizedSearchCV(cv=3, error_score='raise-deprecating',\n",
       "                   estimator=RandomForestClassifier(bootstrap=True,\n",
       "                                                    class_weight=None,\n",
       "                                                    criterion='gini',\n",
       "                                                    max_depth=None,\n",
       "                                                    max_features='auto',\n",
       "                                                    max_leaf_nodes=None,\n",
       "                                                    min_impurity_decrease=0.0,\n",
       "                                                    min_impurity_split=None,\n",
       "                                                    min_samples_leaf=1,\n",
       "                                                    min_samples_split=2,\n",
       "                                                    min_weight_fraction_leaf=0.0,\n",
       "                                                    n_estimators='warn',\n",
       "                                                    n_jobs=None,\n",
       "                                                    oob_sc...\n",
       "                   param_distributions={'bootstrap': [True, False],\n",
       "                                        'max_depth': [10, 20, 30, 40, 50, 60,\n",
       "                                                      70, 80, 90, 100, 110,\n",
       "                                                      None],\n",
       "                                        'max_features': ['auto', 'sqrt'],\n",
       "                                        'min_samples_leaf': [1, 2, 4],\n",
       "                                        'min_samples_split': [2, 5, 10],\n",
       "                                        'n_estimators': [200, 400, 600, 800,\n",
       "                                                         1000, 1200, 1400, 1600,\n",
       "                                                         1800, 2000]},\n",
       "                   pre_dispatch='2*n_jobs', random_state=42, refit=True,\n",
       "                   return_train_score=False, scoring=None, verbose=2)"
      ]
     },
     "execution_count": 64,
     "metadata": {},
     "output_type": "execute_result"
    }
   ],
   "source": [
    "rfc = RandomForestClassifier()\n",
    "rf_random = RandomizedSearchCV(estimator = rfc, param_distributions = random_grid, n_iter = 100, cv = 3, verbose=2, random_state=42, n_jobs = 9)\n",
    "# Fit the random search model\n",
    "rf_random.fit(X_os_train[new_interesting_columns],y_os_train)"
   ]
  },
  {
   "cell_type": "code",
   "execution_count": 65,
   "metadata": {},
   "outputs": [
    {
     "data": {
      "text/plain": [
       "{'n_estimators': 1400,\n",
       " 'min_samples_split': 5,\n",
       " 'min_samples_leaf': 1,\n",
       " 'max_features': 'sqrt',\n",
       " 'max_depth': 80,\n",
       " 'bootstrap': False}"
      ]
     },
     "execution_count": 65,
     "metadata": {},
     "output_type": "execute_result"
    }
   ],
   "source": [
    "rf_random.best_params_"
   ]
  },
  {
   "cell_type": "markdown",
   "metadata": {},
   "source": [
    "### Fit RFC to new features"
   ]
  },
  {
   "cell_type": "code",
   "execution_count": 68,
   "metadata": {},
   "outputs": [
    {
     "data": {
      "text/plain": [
       "RandomForestClassifier(bootstrap=False, class_weight=None, criterion='gini',\n",
       "                       max_depth=80, max_features='sqrt', max_leaf_nodes=None,\n",
       "                       min_impurity_decrease=0.0, min_impurity_split=None,\n",
       "                       min_samples_leaf=1, min_samples_split=5,\n",
       "                       min_weight_fraction_leaf=0.0, n_estimators=1400,\n",
       "                       n_jobs=None, oob_score=False, random_state=None,\n",
       "                       verbose=0, warm_start=False)"
      ]
     },
     "execution_count": 68,
     "metadata": {},
     "output_type": "execute_result"
    }
   ],
   "source": [
    "param_grid = {\n",
    "    'bootstrap': [True],\n",
    "    'max_depth': [80, 90, 100, 110],\n",
    "    'max_features': [2, 3],\n",
    "    'min_samples_leaf': [3, 4, 5],\n",
    "    'min_samples_split': [8, 10, 12],\n",
    "    'n_estimators': [100, 200, 300, 1000]\n",
    "}\n",
    "\n",
    "rfc = RandomForestClassifier(**rf_random.best_params_) ## Unpack the best params into the classifier\n",
    "rfc.fit(X_os_train[new_interesting_columns],y_os_train['y'])"
   ]
  },
  {
   "cell_type": "markdown",
   "metadata": {},
   "source": [
    "### Let's check out the best parameters"
   ]
  },
  {
   "cell_type": "code",
   "execution_count": 71,
   "metadata": {},
   "outputs": [
    {
     "data": {
      "text/plain": [
       "0.999979538266365"
      ]
     },
     "execution_count": 71,
     "metadata": {},
     "output_type": "execute_result"
    }
   ],
   "source": [
    "rfc.score(X_os_train[new_interesting_columns],y_os_train['y'])"
   ]
  },
  {
   "cell_type": "code",
   "execution_count": 72,
   "metadata": {},
   "outputs": [],
   "source": [
    "y_pred_rfc_train = rfc.predict(X_os_train[new_interesting_columns])"
   ]
  },
  {
   "cell_type": "code",
   "execution_count": 73,
   "metadata": {},
   "outputs": [
    {
     "name": "stdout",
     "output_type": "stream",
     "text": [
      "              precision    recall  f1-score   support\n",
      "\n",
      "           0       1.00      1.00      1.00    171051\n",
      "           1       1.00      1.00      1.00    171051\n",
      "\n",
      "    accuracy                           1.00    342102\n",
      "   macro avg       1.00      1.00      1.00    342102\n",
      "weighted avg       1.00      1.00      1.00    342102\n",
      "\n"
     ]
    }
   ],
   "source": [
    "### Precision and AUC vs holdout data\n",
    "print(classification_report(y_os_train['y'], y_pred_rfc_train))"
   ]
  },
  {
   "cell_type": "code",
   "execution_count": 74,
   "metadata": {},
   "outputs": [
    {
     "data": {
      "image/png": "[encoded data removed]",
      "text/plain": [
       "<Figure size 432x288 with 1 Axes>"
      ]
     },
     "metadata": {
      "needs_background": "light"
     },
     "output_type": "display_data"
    }
   ],
   "source": [
    "fig = plt.figure()\n",
    "ax = fig.add_axes([0,0,1,1])\n",
    "ax = utils.roc_auc_plot(x_test=X_os_test[interesting_columns],y_test=y_os_test['y'],y_pred=y_pred_init_train,model=logreg_init,ax=ax, label='Initial Model ')\n",
    "ax = utils.roc_auc_plot(x_test=X_os_train[new_interesting_columns],y_test=y_os_train['y'],y_pred=y_pred_rfc_train,model=rfc,ax=ax,label='RFC Model ')\n",
    "ax.set_title('ROC - Initial Model');"
   ]
  },
  {
   "cell_type": "markdown",
   "metadata": {},
   "source": [
    "### How does it perform on the hold out data?"
   ]
  },
  {
   "cell_type": "code",
   "execution_count": 76,
   "metadata": {},
   "outputs": [
    {
     "data": {
      "text/plain": [
       "0.8810215604054545"
      ]
     },
     "execution_count": 76,
     "metadata": {},
     "output_type": "execute_result"
    }
   ],
   "source": [
    "rfc.score(X_test[new_interesting_columns],y_test)"
   ]
  },
  {
   "cell_type": "code",
   "execution_count": 80,
   "metadata": {},
   "outputs": [],
   "source": [
    "y_pred_rfc_test = rfc.predict(X_test[new_interesting_columns])"
   ]
  },
  {
   "cell_type": "code",
   "execution_count": 81,
   "metadata": {},
   "outputs": [
    {
     "name": "stdout",
     "output_type": "stream",
     "text": [
      "              precision    recall  f1-score   support\n",
      "\n",
      "           0       0.89      0.99      0.94     53454\n",
      "           1       0.45      0.06      0.10      7120\n",
      "\n",
      "    accuracy                           0.88     60574\n",
      "   macro avg       0.67      0.52      0.52     60574\n",
      "weighted avg       0.84      0.88      0.84     60574\n",
      "\n"
     ]
    }
   ],
   "source": [
    "### Precision and AUC vs holdout data\n",
    "print(classification_report(y_test, y_pred_rfc_test))"
   ]
  },
  {
   "cell_type": "code",
   "execution_count": 82,
   "metadata": {},
   "outputs": [
    {
     "data": {
      "image/png": "[encoded data removed]",
      "text/plain": [
       "<Figure size 432x288 with 1 Axes>"
      ]
     },
     "metadata": {
      "needs_background": "light"
     },
     "output_type": "display_data"
    }
   ],
   "source": [
    "fig = plt.figure()\n",
    "ax = fig.add_axes([0,0,1,1])\n",
    "ax = utils.roc_auc_plot(x_test=X_test[interesting_columns],y_test=y_test,y_pred=y_pred_init_test,model=logreg_init,ax=ax, label='Initial Model ')\n",
    "ax = utils.roc_auc_plot(x_test=X_test[new_interesting_columns],y_test=y_test,y_pred=y_pred_rfc_test,model=rfc,ax=ax,label='RFC Model ')\n",
    "ax.set_title('ROC - Initial Model');"
   ]
  },
  {
   "cell_type": "code",
   "execution_count": null,
   "metadata": {},
   "outputs": [],
   "source": [
    "###"
   ]
  }
 ],
 "metadata": {
  "kernelspec": {
   "display_name": "Python 3.7 (brigit)",
   "language": "python",
   "name": "brigit"
  },
  "language_info": {
   "codemirror_mode": {
    "name": "ipython",
    "version": 3
   },
   "file_extension": ".py",
   "mimetype": "text/x-python",
   "name": "python",
   "nbconvert_exporter": "python",
   "pygments_lexer": "ipython3",
   "version": "3.6.8"
  }
 },
 "nbformat": 4,
 "nbformat_minor": 2
}
